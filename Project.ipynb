{
 "cells": [
  {
   "cell_type": "code",
   "execution_count": 1,
   "metadata": {},
   "outputs": [],
   "source": [
    "from sklearn.linear_model import LinearRegression"
   ]
  },
  {
   "cell_type": "code",
   "execution_count": 2,
   "metadata": {},
   "outputs": [],
   "source": [
    "import pandas as pd\n",
    "import numpy as np\n",
    "from sklearn.metrics import r2_score, mean_squared_error\n",
    "import matplotlib.pyplot as plt"
   ]
  },
  {
   "cell_type": "markdown",
   "metadata": {},
   "source": [
    "# Business Understanding\n",
    "\n",
    "AirBnB is a company that allows owners of properties to rent them out to other individuals. It has expanded tremendously since launching 11 years ago, while at the same time triggering some controversy. Critics of AirBnB have alleged that excessive rentals of properties have helped tourists at the expense of residents who face difficulties in finding accomodation.\n",
    "\n",
    "The business purpose of analyzing AirBnB data would be to find out whether certain patterns are present in typical rentals. One could investigate what tends to drive prices up, and what tends to drive them down. Other possible business factgors could involve the length of rentals, the reviews typically given to properties, or the amenities they offer. "
   ]
  },
  {
   "cell_type": "code",
   "execution_count": null,
   "metadata": {},
   "outputs": [],
   "source": []
  },
  {
   "cell_type": "code",
   "execution_count": 3,
   "metadata": {},
   "outputs": [],
   "source": [
    "from sklearn.model_selection import train_test_split"
   ]
  },
  {
   "cell_type": "markdown",
   "metadata": {},
   "source": [
    "# Data Understanding\n",
    "\n",
    "In the data understanding part of my project, I will proceed to familiarize myself with the data, come up with ways to use it, and identify issues that I might need to work on. "
   ]
  },
  {
   "cell_type": "code",
   "execution_count": 4,
   "metadata": {},
   "outputs": [],
   "source": [
    "calendar = pd.read_csv('calendar.csv')"
   ]
  },
  {
   "cell_type": "code",
   "execution_count": 5,
   "metadata": {},
   "outputs": [
    {
     "data": {
      "text/html": [
       "<div>\n",
       "<style scoped>\n",
       "    .dataframe tbody tr th:only-of-type {\n",
       "        vertical-align: middle;\n",
       "    }\n",
       "\n",
       "    .dataframe tbody tr th {\n",
       "        vertical-align: top;\n",
       "    }\n",
       "\n",
       "    .dataframe thead th {\n",
       "        text-align: right;\n",
       "    }\n",
       "</style>\n",
       "<table border=\"1\" class=\"dataframe\">\n",
       "  <thead>\n",
       "    <tr style=\"text-align: right;\">\n",
       "      <th></th>\n",
       "      <th>listing_id</th>\n",
       "      <th>date</th>\n",
       "      <th>available</th>\n",
       "      <th>price</th>\n",
       "    </tr>\n",
       "  </thead>\n",
       "  <tbody>\n",
       "    <tr>\n",
       "      <th>0</th>\n",
       "      <td>241032</td>\n",
       "      <td>2016-01-04</td>\n",
       "      <td>t</td>\n",
       "      <td>$85.00</td>\n",
       "    </tr>\n",
       "    <tr>\n",
       "      <th>1</th>\n",
       "      <td>241032</td>\n",
       "      <td>2016-01-05</td>\n",
       "      <td>t</td>\n",
       "      <td>$85.00</td>\n",
       "    </tr>\n",
       "    <tr>\n",
       "      <th>2</th>\n",
       "      <td>241032</td>\n",
       "      <td>2016-01-06</td>\n",
       "      <td>f</td>\n",
       "      <td>NaN</td>\n",
       "    </tr>\n",
       "    <tr>\n",
       "      <th>3</th>\n",
       "      <td>241032</td>\n",
       "      <td>2016-01-07</td>\n",
       "      <td>f</td>\n",
       "      <td>NaN</td>\n",
       "    </tr>\n",
       "    <tr>\n",
       "      <th>4</th>\n",
       "      <td>241032</td>\n",
       "      <td>2016-01-08</td>\n",
       "      <td>f</td>\n",
       "      <td>NaN</td>\n",
       "    </tr>\n",
       "  </tbody>\n",
       "</table>\n",
       "</div>"
      ],
      "text/plain": [
       "   listing_id        date available   price\n",
       "0      241032  2016-01-04         t  $85.00\n",
       "1      241032  2016-01-05         t  $85.00\n",
       "2      241032  2016-01-06         f     NaN\n",
       "3      241032  2016-01-07         f     NaN\n",
       "4      241032  2016-01-08         f     NaN"
      ]
     },
     "execution_count": 5,
     "metadata": {},
     "output_type": "execute_result"
    }
   ],
   "source": [
    "calendar.head()"
   ]
  },
  {
   "cell_type": "code",
   "execution_count": 6,
   "metadata": {},
   "outputs": [
    {
     "name": "stdout",
     "output_type": "stream",
     "text": [
      "<class 'pandas.core.frame.DataFrame'>\n",
      "RangeIndex: 1393570 entries, 0 to 1393569\n",
      "Data columns (total 4 columns):\n",
      "listing_id    1393570 non-null int64\n",
      "date          1393570 non-null object\n",
      "available     1393570 non-null object\n",
      "price         934542 non-null object\n",
      "dtypes: int64(1), object(3)\n",
      "memory usage: 42.5+ MB\n"
     ]
    }
   ],
   "source": [
    "calendar.info()"
   ]
  },
  {
   "cell_type": "markdown",
   "metadata": {},
   "source": [
    "The dataset above contains just four columns, listing_id, date, available and price. Many missing values are visible in the \"price\" column. The date column is a string, even though it should be datetime. The available column is also listed as a string, even though it actually should be a boolean. The price column is a string as well, even though it should be an int."
   ]
  },
  {
   "cell_type": "code",
   "execution_count": 7,
   "metadata": {},
   "outputs": [
    {
     "data": {
      "text/plain": [
       "t    934542\n",
       "f    459028\n",
       "Name: available, dtype: int64"
      ]
     },
     "execution_count": 7,
     "metadata": {},
     "output_type": "execute_result"
    }
   ],
   "source": [
    "calendar['available'].value_counts()"
   ]
  },
  {
   "cell_type": "markdown",
   "metadata": {},
   "source": [
    "As suspected, the available column consists just of true/false values. Also, it is clear that the number of \"True\" values is identical to the number of non-missing values for price - 934542. This suggests that for every property available on AirBnB in Seattle, the dataset will tell me the price only if it is available. Coming to think of it, it makes sense - if a property is unavailable, then listing a price makes no sense."
   ]
  },
  {
   "cell_type": "code",
   "execution_count": 8,
   "metadata": {},
   "outputs": [
    {
     "data": {
      "text/plain": [
       "6752031     365\n",
       "7404370     365\n",
       "1259305     365\n",
       "4672934     365\n",
       "10310373    365\n",
       "479653      365\n",
       "3251069     365\n",
       "6400379     365\n",
       "8597800     365\n",
       "4841586     365\n",
       "7710713     365\n",
       "3155785     365\n",
       "6949900     365\n",
       "3646393     365\n",
       "3870253     365\n",
       "1252147     365\n",
       "9280767     365\n",
       "808134      365\n",
       "1737244     365\n",
       "7262358     365\n",
       "9910189     365\n",
       "5078244     365\n",
       "7178490     365\n",
       "7182584     365\n",
       "8463726     365\n",
       "8989807     365\n",
       "9497431     365\n",
       "3904056     365\n",
       "2277640     365\n",
       "6837338     365\n",
       "           ... \n",
       "8518308     365\n",
       "8579782     365\n",
       "8409750     365\n",
       "1317919     365\n",
       "7506165     365\n",
       "9939025     365\n",
       "948077      365\n",
       "7096107     365\n",
       "9117633     365\n",
       "2406966     365\n",
       "8157486     365\n",
       "3657819     365\n",
       "8568567     365\n",
       "4130112     365\n",
       "6363779     365\n",
       "10309898    365\n",
       "5433597     365\n",
       "2809796     365\n",
       "8474294     365\n",
       "24212       365\n",
       "279063      365\n",
       "3975434     365\n",
       "6823837     365\n",
       "7627794     365\n",
       "8566475     365\n",
       "9999759     365\n",
       "9048029     365\n",
       "8441477     365\n",
       "7984550     365\n",
       "9484823     365\n",
       "Name: listing_id, Length: 3818, dtype: int64"
      ]
     },
     "execution_count": 8,
     "metadata": {},
     "output_type": "execute_result"
    }
   ],
   "source": [
    "calendar['listing_id'].value_counts()"
   ]
  },
  {
   "cell_type": "markdown",
   "metadata": {},
   "source": [
    "Coming to think of it, I would change the listing_id column from int to string. While technically the values are numbers, it appears very unlikely that I will be able to perform any mathematical operations on them. It is notable that pretty much every value in listing_id appears 365 times - the number of days in a year. \n",
    "\n",
    "The value_counts also tells me that there are 3818 properties in the dataset, with the availability and, if applicable, price listed for each of the 365 days."
   ]
  },
  {
   "cell_type": "code",
   "execution_count": 9,
   "metadata": {},
   "outputs": [],
   "source": [
    "listings = pd.read_csv('listings.csv')"
   ]
  },
  {
   "cell_type": "code",
   "execution_count": 10,
   "metadata": {},
   "outputs": [
    {
     "data": {
      "text/html": [
       "<div>\n",
       "<style scoped>\n",
       "    .dataframe tbody tr th:only-of-type {\n",
       "        vertical-align: middle;\n",
       "    }\n",
       "\n",
       "    .dataframe tbody tr th {\n",
       "        vertical-align: top;\n",
       "    }\n",
       "\n",
       "    .dataframe thead th {\n",
       "        text-align: right;\n",
       "    }\n",
       "</style>\n",
       "<table border=\"1\" class=\"dataframe\">\n",
       "  <thead>\n",
       "    <tr style=\"text-align: right;\">\n",
       "      <th></th>\n",
       "      <th>id</th>\n",
       "      <th>listing_url</th>\n",
       "      <th>scrape_id</th>\n",
       "      <th>last_scraped</th>\n",
       "      <th>name</th>\n",
       "      <th>summary</th>\n",
       "      <th>space</th>\n",
       "      <th>description</th>\n",
       "      <th>experiences_offered</th>\n",
       "      <th>neighborhood_overview</th>\n",
       "      <th>...</th>\n",
       "      <th>review_scores_value</th>\n",
       "      <th>requires_license</th>\n",
       "      <th>license</th>\n",
       "      <th>jurisdiction_names</th>\n",
       "      <th>instant_bookable</th>\n",
       "      <th>cancellation_policy</th>\n",
       "      <th>require_guest_profile_picture</th>\n",
       "      <th>require_guest_phone_verification</th>\n",
       "      <th>calculated_host_listings_count</th>\n",
       "      <th>reviews_per_month</th>\n",
       "    </tr>\n",
       "  </thead>\n",
       "  <tbody>\n",
       "    <tr>\n",
       "      <th>0</th>\n",
       "      <td>241032</td>\n",
       "      <td>https://www.airbnb.com/rooms/241032</td>\n",
       "      <td>20160104002432</td>\n",
       "      <td>2016-01-04</td>\n",
       "      <td>Stylish Queen Anne Apartment</td>\n",
       "      <td>NaN</td>\n",
       "      <td>Make your self at home in this charming one-be...</td>\n",
       "      <td>Make your self at home in this charming one-be...</td>\n",
       "      <td>none</td>\n",
       "      <td>NaN</td>\n",
       "      <td>...</td>\n",
       "      <td>10.0</td>\n",
       "      <td>f</td>\n",
       "      <td>NaN</td>\n",
       "      <td>WASHINGTON</td>\n",
       "      <td>f</td>\n",
       "      <td>moderate</td>\n",
       "      <td>f</td>\n",
       "      <td>f</td>\n",
       "      <td>2</td>\n",
       "      <td>4.07</td>\n",
       "    </tr>\n",
       "    <tr>\n",
       "      <th>1</th>\n",
       "      <td>953595</td>\n",
       "      <td>https://www.airbnb.com/rooms/953595</td>\n",
       "      <td>20160104002432</td>\n",
       "      <td>2016-01-04</td>\n",
       "      <td>Bright &amp; Airy Queen Anne Apartment</td>\n",
       "      <td>Chemically sensitive? We've removed the irrita...</td>\n",
       "      <td>Beautiful, hypoallergenic apartment in an extr...</td>\n",
       "      <td>Chemically sensitive? We've removed the irrita...</td>\n",
       "      <td>none</td>\n",
       "      <td>Queen Anne is a wonderful, truly functional vi...</td>\n",
       "      <td>...</td>\n",
       "      <td>10.0</td>\n",
       "      <td>f</td>\n",
       "      <td>NaN</td>\n",
       "      <td>WASHINGTON</td>\n",
       "      <td>f</td>\n",
       "      <td>strict</td>\n",
       "      <td>t</td>\n",
       "      <td>t</td>\n",
       "      <td>6</td>\n",
       "      <td>1.48</td>\n",
       "    </tr>\n",
       "    <tr>\n",
       "      <th>2</th>\n",
       "      <td>3308979</td>\n",
       "      <td>https://www.airbnb.com/rooms/3308979</td>\n",
       "      <td>20160104002432</td>\n",
       "      <td>2016-01-04</td>\n",
       "      <td>New Modern House-Amazing water view</td>\n",
       "      <td>New modern house built in 2013.  Spectacular s...</td>\n",
       "      <td>Our house is modern, light and fresh with a wa...</td>\n",
       "      <td>New modern house built in 2013.  Spectacular s...</td>\n",
       "      <td>none</td>\n",
       "      <td>Upper Queen Anne is a charming neighborhood fu...</td>\n",
       "      <td>...</td>\n",
       "      <td>10.0</td>\n",
       "      <td>f</td>\n",
       "      <td>NaN</td>\n",
       "      <td>WASHINGTON</td>\n",
       "      <td>f</td>\n",
       "      <td>strict</td>\n",
       "      <td>f</td>\n",
       "      <td>f</td>\n",
       "      <td>2</td>\n",
       "      <td>1.15</td>\n",
       "    </tr>\n",
       "    <tr>\n",
       "      <th>3</th>\n",
       "      <td>7421966</td>\n",
       "      <td>https://www.airbnb.com/rooms/7421966</td>\n",
       "      <td>20160104002432</td>\n",
       "      <td>2016-01-04</td>\n",
       "      <td>Queen Anne Chateau</td>\n",
       "      <td>A charming apartment that sits atop Queen Anne...</td>\n",
       "      <td>NaN</td>\n",
       "      <td>A charming apartment that sits atop Queen Anne...</td>\n",
       "      <td>none</td>\n",
       "      <td>NaN</td>\n",
       "      <td>...</td>\n",
       "      <td>NaN</td>\n",
       "      <td>f</td>\n",
       "      <td>NaN</td>\n",
       "      <td>WASHINGTON</td>\n",
       "      <td>f</td>\n",
       "      <td>flexible</td>\n",
       "      <td>f</td>\n",
       "      <td>f</td>\n",
       "      <td>1</td>\n",
       "      <td>NaN</td>\n",
       "    </tr>\n",
       "    <tr>\n",
       "      <th>4</th>\n",
       "      <td>278830</td>\n",
       "      <td>https://www.airbnb.com/rooms/278830</td>\n",
       "      <td>20160104002432</td>\n",
       "      <td>2016-01-04</td>\n",
       "      <td>Charming craftsman 3 bdm house</td>\n",
       "      <td>Cozy family craftman house in beautiful neighb...</td>\n",
       "      <td>Cozy family craftman house in beautiful neighb...</td>\n",
       "      <td>Cozy family craftman house in beautiful neighb...</td>\n",
       "      <td>none</td>\n",
       "      <td>We are in the beautiful neighborhood of Queen ...</td>\n",
       "      <td>...</td>\n",
       "      <td>9.0</td>\n",
       "      <td>f</td>\n",
       "      <td>NaN</td>\n",
       "      <td>WASHINGTON</td>\n",
       "      <td>f</td>\n",
       "      <td>strict</td>\n",
       "      <td>f</td>\n",
       "      <td>f</td>\n",
       "      <td>1</td>\n",
       "      <td>0.89</td>\n",
       "    </tr>\n",
       "  </tbody>\n",
       "</table>\n",
       "<p>5 rows × 92 columns</p>\n",
       "</div>"
      ],
      "text/plain": [
       "        id                           listing_url       scrape_id last_scraped  \\\n",
       "0   241032   https://www.airbnb.com/rooms/241032  20160104002432   2016-01-04   \n",
       "1   953595   https://www.airbnb.com/rooms/953595  20160104002432   2016-01-04   \n",
       "2  3308979  https://www.airbnb.com/rooms/3308979  20160104002432   2016-01-04   \n",
       "3  7421966  https://www.airbnb.com/rooms/7421966  20160104002432   2016-01-04   \n",
       "4   278830   https://www.airbnb.com/rooms/278830  20160104002432   2016-01-04   \n",
       "\n",
       "                                  name  \\\n",
       "0         Stylish Queen Anne Apartment   \n",
       "1   Bright & Airy Queen Anne Apartment   \n",
       "2  New Modern House-Amazing water view   \n",
       "3                   Queen Anne Chateau   \n",
       "4       Charming craftsman 3 bdm house   \n",
       "\n",
       "                                             summary  \\\n",
       "0                                                NaN   \n",
       "1  Chemically sensitive? We've removed the irrita...   \n",
       "2  New modern house built in 2013.  Spectacular s...   \n",
       "3  A charming apartment that sits atop Queen Anne...   \n",
       "4  Cozy family craftman house in beautiful neighb...   \n",
       "\n",
       "                                               space  \\\n",
       "0  Make your self at home in this charming one-be...   \n",
       "1  Beautiful, hypoallergenic apartment in an extr...   \n",
       "2  Our house is modern, light and fresh with a wa...   \n",
       "3                                                NaN   \n",
       "4  Cozy family craftman house in beautiful neighb...   \n",
       "\n",
       "                                         description experiences_offered  \\\n",
       "0  Make your self at home in this charming one-be...                none   \n",
       "1  Chemically sensitive? We've removed the irrita...                none   \n",
       "2  New modern house built in 2013.  Spectacular s...                none   \n",
       "3  A charming apartment that sits atop Queen Anne...                none   \n",
       "4  Cozy family craftman house in beautiful neighb...                none   \n",
       "\n",
       "                               neighborhood_overview        ...         \\\n",
       "0                                                NaN        ...          \n",
       "1  Queen Anne is a wonderful, truly functional vi...        ...          \n",
       "2  Upper Queen Anne is a charming neighborhood fu...        ...          \n",
       "3                                                NaN        ...          \n",
       "4  We are in the beautiful neighborhood of Queen ...        ...          \n",
       "\n",
       "  review_scores_value requires_license license jurisdiction_names  \\\n",
       "0                10.0                f     NaN         WASHINGTON   \n",
       "1                10.0                f     NaN         WASHINGTON   \n",
       "2                10.0                f     NaN         WASHINGTON   \n",
       "3                 NaN                f     NaN         WASHINGTON   \n",
       "4                 9.0                f     NaN         WASHINGTON   \n",
       "\n",
       "  instant_bookable cancellation_policy  require_guest_profile_picture  \\\n",
       "0                f            moderate                              f   \n",
       "1                f              strict                              t   \n",
       "2                f              strict                              f   \n",
       "3                f            flexible                              f   \n",
       "4                f              strict                              f   \n",
       "\n",
       "  require_guest_phone_verification calculated_host_listings_count  \\\n",
       "0                                f                              2   \n",
       "1                                t                              6   \n",
       "2                                f                              2   \n",
       "3                                f                              1   \n",
       "4                                f                              1   \n",
       "\n",
       "  reviews_per_month  \n",
       "0              4.07  \n",
       "1              1.48  \n",
       "2              1.15  \n",
       "3               NaN  \n",
       "4              0.89  \n",
       "\n",
       "[5 rows x 92 columns]"
      ]
     },
     "execution_count": 10,
     "metadata": {},
     "output_type": "execute_result"
    }
   ],
   "source": [
    "listings.head()"
   ]
  },
  {
   "cell_type": "code",
   "execution_count": 11,
   "metadata": {
    "scrolled": true
   },
   "outputs": [
    {
     "name": "stdout",
     "output_type": "stream",
     "text": [
      "<class 'pandas.core.frame.DataFrame'>\n",
      "RangeIndex: 3818 entries, 0 to 3817\n",
      "Data columns (total 92 columns):\n",
      "id                                  3818 non-null int64\n",
      "listing_url                         3818 non-null object\n",
      "scrape_id                           3818 non-null int64\n",
      "last_scraped                        3818 non-null object\n",
      "name                                3818 non-null object\n",
      "summary                             3641 non-null object\n",
      "space                               3249 non-null object\n",
      "description                         3818 non-null object\n",
      "experiences_offered                 3818 non-null object\n",
      "neighborhood_overview               2786 non-null object\n",
      "notes                               2212 non-null object\n",
      "transit                             2884 non-null object\n",
      "thumbnail_url                       3498 non-null object\n",
      "medium_url                          3498 non-null object\n",
      "picture_url                         3818 non-null object\n",
      "xl_picture_url                      3498 non-null object\n",
      "host_id                             3818 non-null int64\n",
      "host_url                            3818 non-null object\n",
      "host_name                           3816 non-null object\n",
      "host_since                          3816 non-null object\n",
      "host_location                       3810 non-null object\n",
      "host_about                          2959 non-null object\n",
      "host_response_time                  3295 non-null object\n",
      "host_response_rate                  3295 non-null object\n",
      "host_acceptance_rate                3045 non-null object\n",
      "host_is_superhost                   3816 non-null object\n",
      "host_thumbnail_url                  3816 non-null object\n",
      "host_picture_url                    3816 non-null object\n",
      "host_neighbourhood                  3518 non-null object\n",
      "host_listings_count                 3816 non-null float64\n",
      "host_total_listings_count           3816 non-null float64\n",
      "host_verifications                  3818 non-null object\n",
      "host_has_profile_pic                3816 non-null object\n",
      "host_identity_verified              3816 non-null object\n",
      "street                              3818 non-null object\n",
      "neighbourhood                       3402 non-null object\n",
      "neighbourhood_cleansed              3818 non-null object\n",
      "neighbourhood_group_cleansed        3818 non-null object\n",
      "city                                3818 non-null object\n",
      "state                               3818 non-null object\n",
      "zipcode                             3811 non-null object\n",
      "market                              3818 non-null object\n",
      "smart_location                      3818 non-null object\n",
      "country_code                        3818 non-null object\n",
      "country                             3818 non-null object\n",
      "latitude                            3818 non-null float64\n",
      "longitude                           3818 non-null float64\n",
      "is_location_exact                   3818 non-null object\n",
      "property_type                       3817 non-null object\n",
      "room_type                           3818 non-null object\n",
      "accommodates                        3818 non-null int64\n",
      "bathrooms                           3802 non-null float64\n",
      "bedrooms                            3812 non-null float64\n",
      "beds                                3817 non-null float64\n",
      "bed_type                            3818 non-null object\n",
      "amenities                           3818 non-null object\n",
      "square_feet                         97 non-null float64\n",
      "price                               3818 non-null object\n",
      "weekly_price                        2009 non-null object\n",
      "monthly_price                       1517 non-null object\n",
      "security_deposit                    1866 non-null object\n",
      "cleaning_fee                        2788 non-null object\n",
      "guests_included                     3818 non-null int64\n",
      "extra_people                        3818 non-null object\n",
      "minimum_nights                      3818 non-null int64\n",
      "maximum_nights                      3818 non-null int64\n",
      "calendar_updated                    3818 non-null object\n",
      "has_availability                    3818 non-null object\n",
      "availability_30                     3818 non-null int64\n",
      "availability_60                     3818 non-null int64\n",
      "availability_90                     3818 non-null int64\n",
      "availability_365                    3818 non-null int64\n",
      "calendar_last_scraped               3818 non-null object\n",
      "number_of_reviews                   3818 non-null int64\n",
      "first_review                        3191 non-null object\n",
      "last_review                         3191 non-null object\n",
      "review_scores_rating                3171 non-null float64\n",
      "review_scores_accuracy              3160 non-null float64\n",
      "review_scores_cleanliness           3165 non-null float64\n",
      "review_scores_checkin               3160 non-null float64\n",
      "review_scores_communication         3167 non-null float64\n",
      "review_scores_location              3163 non-null float64\n",
      "review_scores_value                 3162 non-null float64\n",
      "requires_license                    3818 non-null object\n",
      "license                             0 non-null float64\n",
      "jurisdiction_names                  3818 non-null object\n",
      "instant_bookable                    3818 non-null object\n",
      "cancellation_policy                 3818 non-null object\n",
      "require_guest_profile_picture       3818 non-null object\n",
      "require_guest_phone_verification    3818 non-null object\n",
      "calculated_host_listings_count      3818 non-null int64\n",
      "reviews_per_month                   3191 non-null float64\n",
      "dtypes: float64(17), int64(13), object(62)\n",
      "memory usage: 2.7+ MB\n"
     ]
    }
   ],
   "source": [
    "listings.info()"
   ]
  },
  {
   "cell_type": "markdown",
   "metadata": {},
   "source": [
    "At first glance, it is visible that there are 3818 rows in the listings dataset - identical to the number of distinct listing_ids in the previous one. As in the previous dataset, it seems clear that the id column should have a string datatype, and not integer. I will not be conducting mathematical operations on the id numbers."
   ]
  },
  {
   "cell_type": "markdown",
   "metadata": {},
   "source": [
    "The listing_url column essentially duplicates the id, and therefore seems useless. I would recommend deleting it."
   ]
  },
  {
   "cell_type": "code",
   "execution_count": 12,
   "metadata": {},
   "outputs": [
    {
     "data": {
      "text/plain": [
       "20160104002432    3818\n",
       "Name: scrape_id, dtype: int64"
      ]
     },
     "execution_count": 12,
     "metadata": {},
     "output_type": "execute_result"
    }
   ],
   "source": [
    "listings['scrape_id'].value_counts()"
   ]
  },
  {
   "cell_type": "markdown",
   "metadata": {},
   "source": [
    "The scrape_id column contains the same value 3818 times. I will proceed to delete it"
   ]
  },
  {
   "cell_type": "code",
   "execution_count": 13,
   "metadata": {},
   "outputs": [
    {
     "data": {
      "text/plain": [
       "2016-01-04    3818\n",
       "Name: last_scraped, dtype: int64"
      ]
     },
     "execution_count": 13,
     "metadata": {},
     "output_type": "execute_result"
    }
   ],
   "source": [
    "listings['last_scraped'].value_counts()"
   ]
  },
  {
   "cell_type": "markdown",
   "metadata": {},
   "source": [
    "The last_scraped column similarly contains the same exact value, '2016-01-04', 3818 times. I will delete it."
   ]
  },
  {
   "cell_type": "markdown",
   "metadata": {},
   "source": [
    "The name column is short-enough to be readable. I will keep it."
   ]
  },
  {
   "cell_type": "markdown",
   "metadata": {},
   "source": [
    "The space and description columns seem to long to read them. I will remove them"
   ]
  },
  {
   "cell_type": "code",
   "execution_count": 14,
   "metadata": {},
   "outputs": [
    {
     "data": {
      "text/plain": [
       "none    3818\n",
       "Name: experiences_offered, dtype: int64"
      ]
     },
     "execution_count": 14,
     "metadata": {},
     "output_type": "execute_result"
    }
   ],
   "source": [
    "listings['experiences_offered'].value_counts()"
   ]
  },
  {
   "cell_type": "markdown",
   "metadata": {},
   "source": [
    "Strangely enough, the experiences_offered column contains exclusively the \"none\" value."
   ]
  },
  {
   "cell_type": "code",
   "execution_count": 15,
   "metadata": {},
   "outputs": [
    {
     "data": {
      "text/plain": [
       "0                                                  NaN\n",
       "1    Queen Anne is a wonderful, truly functional vi...\n",
       "2    Upper Queen Anne is a charming neighborhood fu...\n",
       "3                                                  NaN\n",
       "4    We are in the beautiful neighborhood of Queen ...\n",
       "Name: neighborhood_overview, dtype: object"
      ]
     },
     "execution_count": 15,
     "metadata": {},
     "output_type": "execute_result"
    }
   ],
   "source": [
    "listings['neighborhood_overview'].head()"
   ]
  },
  {
   "cell_type": "markdown",
   "metadata": {},
   "source": [
    "This column contains a description of the neighborhood. Might be useful."
   ]
  },
  {
   "cell_type": "code",
   "execution_count": null,
   "metadata": {},
   "outputs": [],
   "source": []
  },
  {
   "cell_type": "code",
   "execution_count": 16,
   "metadata": {},
   "outputs": [
    {
     "data": {
      "text/plain": [
       "0                                                  NaN\n",
       "1    What's up with the free pillows?  Our home was...\n",
       "2    Our house is located just 5 short blocks to To...\n",
       "3                                                  NaN\n",
       "4                                            Belltown \n",
       "Name: notes, dtype: object"
      ]
     },
     "execution_count": 16,
     "metadata": {},
     "output_type": "execute_result"
    }
   ],
   "source": [
    "listings['notes'].head()"
   ]
  },
  {
   "cell_type": "markdown",
   "metadata": {},
   "source": [
    "Certain notes regarding each of the properties. Debateable whether this column will help me at all. Note the large number of missing values."
   ]
  },
  {
   "cell_type": "code",
   "execution_count": 17,
   "metadata": {},
   "outputs": [
    {
     "data": {
      "text/plain": [
       "0                                                  NaN\n",
       "1    Convenient bus stops are just down the block, ...\n",
       "2    A bus stop is just 2 blocks away.   Easy bus a...\n",
       "3                                                  NaN\n",
       "4    The nearest public transit bus (D Line) is 2 b...\n",
       "Name: transit, dtype: object"
      ]
     },
     "execution_count": 17,
     "metadata": {},
     "output_type": "execute_result"
    }
   ],
   "source": [
    "listings['transit'].head()"
   ]
  },
  {
   "cell_type": "markdown",
   "metadata": {},
   "source": [
    "This column mentions the various forms of public transit available in the vicinity of the property. It seems useful only when looking at individual cases. Apart from that, I can hardly imagine using this column to go through thousands of properties. also notable is the large number of missing values."
   ]
  },
  {
   "cell_type": "code",
   "execution_count": 18,
   "metadata": {},
   "outputs": [
    {
     "data": {
      "text/plain": [
       "0                                                  NaN\n",
       "1    https://a0.muscache.com/ac/pictures/14409893/f...\n",
       "2                                                  NaN\n",
       "3                                                  NaN\n",
       "4                                                  NaN\n",
       "Name: thumbnail_url, dtype: object"
      ]
     },
     "execution_count": 18,
     "metadata": {},
     "output_type": "execute_result"
    }
   ],
   "source": [
    "listings['thumbnail_url'].head()"
   ]
  },
  {
   "cell_type": "markdown",
   "metadata": {},
   "source": [
    "These URLs will not help me with my questions."
   ]
  },
  {
   "cell_type": "code",
   "execution_count": 19,
   "metadata": {},
   "outputs": [
    {
     "data": {
      "text/plain": [
       "0                                                  NaN\n",
       "1    https://a0.muscache.com/im/pictures/14409893/f...\n",
       "2                                                  NaN\n",
       "3                                                  NaN\n",
       "4                                                  NaN\n",
       "Name: medium_url, dtype: object"
      ]
     },
     "execution_count": 19,
     "metadata": {},
     "output_type": "execute_result"
    }
   ],
   "source": [
    "listings['medium_url'].head()"
   ]
  },
  {
   "cell_type": "code",
   "execution_count": 20,
   "metadata": {},
   "outputs": [
    {
     "data": {
      "text/plain": [
       "0    https://a1.muscache.com/ac/pictures/67560560/c...\n",
       "1    https://a0.muscache.com/ac/pictures/14409893/f...\n",
       "2    https://a2.muscache.com/ac/pictures/b4324e0f-a...\n",
       "3    https://a0.muscache.com/ac/pictures/94146944/6...\n",
       "4    https://a1.muscache.com/ac/pictures/6120468/b0...\n",
       "Name: picture_url, dtype: object"
      ]
     },
     "execution_count": 20,
     "metadata": {},
     "output_type": "execute_result"
    }
   ],
   "source": [
    "listings['picture_url'].head()"
   ]
  },
  {
   "cell_type": "markdown",
   "metadata": {},
   "source": [
    "The picture_url column consists of URLs that are dead links."
   ]
  },
  {
   "cell_type": "code",
   "execution_count": 21,
   "metadata": {},
   "outputs": [
    {
     "data": {
      "text/plain": [
       "0                                                     NaN\n",
       "1       https://a0.muscache.com/ac/pictures/14409893/f...\n",
       "2                                                     NaN\n",
       "3                                                     NaN\n",
       "4                                                     NaN\n",
       "5       https://a2.muscache.com/ac/pictures/84791950/f...\n",
       "6       https://a2.muscache.com/ac/pictures/26505642/2...\n",
       "7       https://a2.muscache.com/ac/pictures/83538305/d...\n",
       "8       https://a0.muscache.com/ac/pictures/85453284/d...\n",
       "9       https://a2.muscache.com/ac/pictures/33003258/f...\n",
       "10      https://a0.muscache.com/ac/pictures/2788698/87...\n",
       "11      https://a0.muscache.com/ac/pictures/59566840/b...\n",
       "12      https://a2.muscache.com/ac/pictures/48864586/9...\n",
       "13      https://a2.muscache.com/ac/pictures/69b4dfed-9...\n",
       "14      https://a2.muscache.com/ac/pictures/91278310/1...\n",
       "15                                                    NaN\n",
       "16      https://a0.muscache.com/ac/pictures/57011178/e...\n",
       "17      https://a1.muscache.com/ac/pictures/65170901/6...\n",
       "18      https://a2.muscache.com/ac/pictures/98338372/c...\n",
       "19                                                    NaN\n",
       "20      https://a2.muscache.com/ac/pictures/6374cb3b-a...\n",
       "21      https://a1.muscache.com/ac/pictures/52657137/d...\n",
       "22                                                    NaN\n",
       "23      https://a2.muscache.com/ac/pictures/3f11eb1a-3...\n",
       "24                                                    NaN\n",
       "25                                                    NaN\n",
       "26                                                    NaN\n",
       "27      https://a0.muscache.com/ac/pictures/67216372/d...\n",
       "28                                                    NaN\n",
       "29      https://a0.muscache.com/ac/pictures/60875300/3...\n",
       "                              ...                        \n",
       "3788    https://a2.muscache.com/ac/pictures/102889373/...\n",
       "3789    https://a2.muscache.com/ac/pictures/109434352/...\n",
       "3790    https://a1.muscache.com/ac/pictures/40919375/2...\n",
       "3791    https://a1.muscache.com/ac/pictures/101354275/...\n",
       "3792    https://a2.muscache.com/ac/pictures/40835954-c...\n",
       "3793                                                  NaN\n",
       "3794    https://a1.muscache.com/ac/pictures/85686578/1...\n",
       "3795    https://a2.muscache.com/ac/pictures/73308107/f...\n",
       "3796    https://a2.muscache.com/ac/pictures/8157091/5a...\n",
       "3797    https://a2.muscache.com/ac/pictures/8cf79670-c...\n",
       "3798    https://a0.muscache.com/ac/pictures/63200945/a...\n",
       "3799                                                  NaN\n",
       "3800    https://a1.muscache.com/ac/pictures/69724382/f...\n",
       "3801    https://a1.muscache.com/ac/pictures/56811707/6...\n",
       "3802    https://a0.muscache.com/ac/pictures/108784666/...\n",
       "3803    https://a2.muscache.com/ac/pictures/60f3d68d-f...\n",
       "3804    https://a2.muscache.com/ac/pictures/91338809/e...\n",
       "3805    https://a1.muscache.com/ac/pictures/110078306/...\n",
       "3806                                                  NaN\n",
       "3807                                                  NaN\n",
       "3808    https://a0.muscache.com/ac/pictures/26113769/f...\n",
       "3809    https://a2.muscache.com/ac/pictures/76273783/b...\n",
       "3810    https://a1.muscache.com/ac/pictures/75088108/6...\n",
       "3811    https://a2.muscache.com/ac/pictures/109014114/...\n",
       "3812    https://a0.muscache.com/ac/pictures/108686685/...\n",
       "3813    https://a2.muscache.com/ac/pictures/103217071/...\n",
       "3814    https://a2.muscache.com/ac/pictures/626d4b1f-6...\n",
       "3815    https://a2.muscache.com/ac/pictures/a5974f04-2...\n",
       "3816    https://a2.muscache.com/ac/pictures/202e4ad6-b...\n",
       "3817    https://a2.muscache.com/ac/pictures/596705b3-0...\n",
       "Name: xl_picture_url, Length: 3818, dtype: object"
      ]
     },
     "execution_count": 21,
     "metadata": {},
     "output_type": "execute_result"
    }
   ],
   "source": [
    "listings['xl_picture_url']"
   ]
  },
  {
   "cell_type": "markdown",
   "metadata": {},
   "source": [
    "Once again, dead-link URLs."
   ]
  },
  {
   "cell_type": "code",
   "execution_count": 22,
   "metadata": {},
   "outputs": [
    {
     "data": {
      "text/plain": [
       "0      956883\n",
       "1     5177328\n",
       "2    16708587\n",
       "3     9851441\n",
       "4     1452570\n",
       "Name: host_id, dtype: int64"
      ]
     },
     "execution_count": 22,
     "metadata": {},
     "output_type": "execute_result"
    }
   ],
   "source": [
    "listings['host_id'].head()"
   ]
  },
  {
   "cell_type": "code",
   "execution_count": 23,
   "metadata": {},
   "outputs": [
    {
     "data": {
      "text/plain": [
       "8534462     46\n",
       "4962900     39\n",
       "1243056     37\n",
       "430709      36\n",
       "3074414     34\n",
       "74305       33\n",
       "26967583    21\n",
       "7354306     18\n",
       "42537846    16\n",
       "1623580     12\n",
       "658155      12\n",
       "2911360     11\n",
       "862329      11\n",
       "754810      10\n",
       "31148752    10\n",
       "50893       10\n",
       "14980831     9\n",
       "5325329      9\n",
       "4411144      9\n",
       "1787819      8\n",
       "10558142     7\n",
       "5820099      7\n",
       "1121532      7\n",
       "6372203      6\n",
       "22764472     6\n",
       "5177328      6\n",
       "50550045     6\n",
       "12796487     6\n",
       "2409388      5\n",
       "32807985     5\n",
       "            ..\n",
       "45917623     1\n",
       "41319913     1\n",
       "17928378     1\n",
       "21149225     1\n",
       "42273230     1\n",
       "23372237     1\n",
       "45437387     1\n",
       "9565783      1\n",
       "34605512     1\n",
       "295367       1\n",
       "2161126      1\n",
       "9060841      1\n",
       "27761130     1\n",
       "15512043     1\n",
       "205325       1\n",
       "36706828     1\n",
       "7182858      1\n",
       "27129222     1\n",
       "13042181     1\n",
       "1845764      1\n",
       "13959773     1\n",
       "15436286     1\n",
       "2294267      1\n",
       "33931765     1\n",
       "36882932     1\n",
       "38090170     1\n",
       "11839982     1\n",
       "668141       1\n",
       "1691632      1\n",
       "10420224     1\n",
       "Name: host_id, Length: 2751, dtype: int64"
      ]
     },
     "execution_count": 23,
     "metadata": {},
     "output_type": "execute_result"
    }
   ],
   "source": [
    "listings['host_id'].value_counts()"
   ]
  },
  {
   "cell_type": "markdown",
   "metadata": {},
   "source": [
    "Potentially useful column with the IDs of the hosts. Note that it should be changed from int to string. I will not be conducting mathematical operations on these numbers."
   ]
  },
  {
   "cell_type": "code",
   "execution_count": 24,
   "metadata": {},
   "outputs": [
    {
     "data": {
      "text/plain": [
       "0      https://www.airbnb.com/users/show/956883\n",
       "1     https://www.airbnb.com/users/show/5177328\n",
       "2    https://www.airbnb.com/users/show/16708587\n",
       "3     https://www.airbnb.com/users/show/9851441\n",
       "4     https://www.airbnb.com/users/show/1452570\n",
       "Name: host_url, dtype: object"
      ]
     },
     "execution_count": 24,
     "metadata": {},
     "output_type": "execute_result"
    }
   ],
   "source": [
    "listings['host_url'].head()"
   ]
  },
  {
   "cell_type": "markdown",
   "metadata": {},
   "source": [
    "Seems like a duplication of the host_id column. I would recommend removal."
   ]
  },
  {
   "cell_type": "code",
   "execution_count": 25,
   "metadata": {},
   "outputs": [
    {
     "data": {
      "text/plain": [
       "0     Maija\n",
       "1    Andrea\n",
       "2      Jill\n",
       "3     Emily\n",
       "4     Emily\n",
       "Name: host_name, dtype: object"
      ]
     },
     "execution_count": 25,
     "metadata": {},
     "output_type": "execute_result"
    }
   ],
   "source": [
    "listings['host_name'].head()"
   ]
  },
  {
   "cell_type": "markdown",
   "metadata": {},
   "source": [
    "This column seems more straightforward than the host_id one, but a potential issue arises - names can repeat themselves. Indeed, the two Emilys in rows 3 and 4 are different people. Therefore, I would delete this column and rely on the host_ids instead."
   ]
  },
  {
   "cell_type": "code",
   "execution_count": 26,
   "metadata": {},
   "outputs": [
    {
     "data": {
      "text/plain": [
       "0    2011-08-11\n",
       "1    2013-02-21\n",
       "2    2014-06-12\n",
       "3    2013-11-06\n",
       "4    2011-11-29\n",
       "Name: host_since, dtype: object"
      ]
     },
     "execution_count": 26,
     "metadata": {},
     "output_type": "execute_result"
    }
   ],
   "source": [
    "listings['host_since'].head()"
   ]
  },
  {
   "cell_type": "markdown",
   "metadata": {},
   "source": [
    "Useful column, but should be of datetype format and not string."
   ]
  },
  {
   "cell_type": "code",
   "execution_count": 27,
   "metadata": {},
   "outputs": [
    {
     "data": {
      "text/plain": [
       "0    Seattle, Washington, United States\n",
       "1    Seattle, Washington, United States\n",
       "2    Seattle, Washington, United States\n",
       "3    Seattle, Washington, United States\n",
       "4    Seattle, Washington, United States\n",
       "Name: host_location, dtype: object"
      ]
     },
     "execution_count": 27,
     "metadata": {},
     "output_type": "execute_result"
    }
   ],
   "source": [
    "listings['host_location'].head()"
   ]
  },
  {
   "cell_type": "code",
   "execution_count": 28,
   "metadata": {},
   "outputs": [
    {
     "data": {
      "text/plain": [
       "Seattle, Washington, United States                                    3259\n",
       "US                                                                     246\n",
       "Spokane, Washington, United States                                      41\n",
       "Kent, Washington, United States                                         34\n",
       "Los Angeles, California, United States                                  13\n",
       "Bellevue, Washington, United States                                     12\n",
       "San Francisco, California, United States                                11\n",
       "Mercer Island, Washington, United States                                10\n",
       "Kirkland, Washington, United States                                      8\n",
       "New York, New York, United States                                        6\n",
       "Seattle                                                                  5\n",
       "Shoreline, Washington, United States                                     5\n",
       "Vashon, Washington, United States                                        5\n",
       "Sammamish, Washington, United States                                     5\n",
       "Vancouver, Washington, United States                                     4\n",
       "San Diego, California, United States                                     4\n",
       "Portland, Oregon, United States                                          4\n",
       "Tucson, Arizona, United States                                           4\n",
       "Seattle, Washington                                                      4\n",
       "Montezuma,Costas Rica  and Seattle Wasington, United States              3\n",
       "Seattle/San Fransisco/Taipei                                             3\n",
       "San Francisco, California                                                3\n",
       "Issaquah, Washington, United States                                      3\n",
       "Washington State, United States                                          3\n",
       "Vancouver, British Columbia, Canada                                      3\n",
       "Blaine, Washington, United States                                        3\n",
       "Palm Springs, California, United States                                  3\n",
       "Seattle and Bellingham, Washington, United States                        2\n",
       "DZ                                                                       2\n",
       "We live in the upper portion of the home                                 2\n",
       "                                                                      ... \n",
       "Gig Harbor, Washington, United States                                    1\n",
       "Bellingham, Washington, United States                                    1\n",
       "Lowell, Massachusetts, United States                                     1\n",
       "Houston, Texas, United States                                            1\n",
       "Rome, Lazio, Italy                                                       1\n",
       "Addison, Texas, United States                                            1\n",
       "All over the Planet. I'm having a Maui Moment.                           1\n",
       "Calgary, Alberta, Canada                                                 1\n",
       "Arlington, Massachusetts, United States                                  1\n",
       "Beijing, Beijing, China                                                  1\n",
       "Greenbank, Washington, United States                                     1\n",
       "Port Orchard, Washington, United States                                  1\n",
       "Kenilworth, Illinois, United States                                      1\n",
       "Woodinville, Washington, United States                                   1\n",
       "I live between Princeville Kauai and Seattle Wa, homes both places       1\n",
       "Breckenridge, Colorado, United States                                    1\n",
       "Massachusetts, United States                                             1\n",
       "West New York, New Jersey, United States                                 1\n",
       "Greenwood Village, Colorado, United States                               1\n",
       "Lafayette, California, United States                                     1\n",
       "Long Beach, California, United States                                    1\n",
       "Next door to cottage                                                     1\n",
       "Salt Lake City, Utah, United States                                      1\n",
       "Prescott Valley, Arizona, United States                                  1\n",
       "Seattle, Washington and London, England                                  1\n",
       "Oregon                                                                   1\n",
       "Castle Rock, Washington, United States                                   1\n",
       "Ballard, Seattle, WA                                                     1\n",
       "SG                                                                       1\n",
       "We live in the house upstairs from the rental flat                       1\n",
       "Name: host_location, Length: 120, dtype: int64"
      ]
     },
     "execution_count": 28,
     "metadata": {},
     "output_type": "execute_result"
    }
   ],
   "source": [
    "listings['host_location'].value_counts()"
   ]
  },
  {
   "cell_type": "markdown",
   "metadata": {},
   "source": [
    "This is an interesting column which tells us where the host lives. Most of them, of course, live in Seattle itself. Some, however, live a considerable distance away from the city. Do absentee hosts have different characteristics compared to those who live closer to their property?"
   ]
  },
  {
   "cell_type": "code",
   "execution_count": 29,
   "metadata": {},
   "outputs": [
    {
     "data": {
      "text/plain": [
       "0    I am an artist, interior designer, and run a s...\n",
       "1    Living east coast/left coast/overseas.  Time i...\n",
       "2    i love living in Seattle.  i grew up in the mi...\n",
       "3                                                  NaN\n",
       "4    Hi, I live in Seattle, Washington but I'm orig...\n",
       "Name: host_about, dtype: object"
      ]
     },
     "execution_count": 29,
     "metadata": {},
     "output_type": "execute_result"
    }
   ],
   "source": [
    "listings['host_about'].head()"
   ]
  },
  {
   "cell_type": "markdown",
   "metadata": {},
   "source": [
    "Seems like a column where every host gives an explanation about himself. It is not easy to extract information from this column, and on top of that there are hundreds of missing values. I would recommend removal."
   ]
  },
  {
   "cell_type": "code",
   "execution_count": 30,
   "metadata": {},
   "outputs": [
    {
     "data": {
      "text/plain": [
       "0    within a few hours\n",
       "1        within an hour\n",
       "2    within a few hours\n",
       "3                   NaN\n",
       "4        within an hour\n",
       "Name: host_response_time, dtype: object"
      ]
     },
     "execution_count": 30,
     "metadata": {},
     "output_type": "execute_result"
    }
   ],
   "source": [
    "listings['host_response_time'].head()"
   ]
  },
  {
   "cell_type": "code",
   "execution_count": 31,
   "metadata": {},
   "outputs": [
    {
     "data": {
      "text/plain": [
       "within an hour        1692\n",
       "within a few hours     968\n",
       "within a day           597\n",
       "a few days or more      38\n",
       "Name: host_response_time, dtype: int64"
      ]
     },
     "execution_count": 31,
     "metadata": {},
     "output_type": "execute_result"
    }
   ],
   "source": [
    "listings['host_response_time'].value_counts()"
   ]
  },
  {
   "cell_type": "markdown",
   "metadata": {},
   "source": [
    "This is a valuable column. The only issue is the large number of missing values."
   ]
  },
  {
   "cell_type": "code",
   "execution_count": 32,
   "metadata": {},
   "outputs": [
    {
     "data": {
      "text/plain": [
       "0     96%\n",
       "1     98%\n",
       "2     67%\n",
       "3     NaN\n",
       "4    100%\n",
       "Name: host_response_rate, dtype: object"
      ]
     },
     "execution_count": 32,
     "metadata": {},
     "output_type": "execute_result"
    }
   ],
   "source": [
    "listings['host_response_rate'].head()"
   ]
  },
  {
   "cell_type": "code",
   "execution_count": 33,
   "metadata": {},
   "outputs": [
    {
     "data": {
      "text/plain": [
       "100%    2371\n",
       "90%      165\n",
       "80%      104\n",
       "99%       78\n",
       "88%       66\n",
       "50%       52\n",
       "94%       46\n",
       "67%       41\n",
       "89%       32\n",
       "75%       32\n",
       "86%       30\n",
       "98%       28\n",
       "96%       28\n",
       "70%       25\n",
       "97%       21\n",
       "83%       20\n",
       "60%       20\n",
       "92%       18\n",
       "93%       18\n",
       "33%       14\n",
       "40%       12\n",
       "63%       11\n",
       "78%        8\n",
       "95%        8\n",
       "71%        8\n",
       "91%        5\n",
       "43%        4\n",
       "25%        3\n",
       "87%        3\n",
       "76%        3\n",
       "64%        3\n",
       "82%        2\n",
       "17%        2\n",
       "57%        2\n",
       "58%        2\n",
       "30%        1\n",
       "68%        1\n",
       "65%        1\n",
       "56%        1\n",
       "38%        1\n",
       "81%        1\n",
       "31%        1\n",
       "53%        1\n",
       "69%        1\n",
       "55%        1\n",
       "Name: host_response_rate, dtype: int64"
      ]
     },
     "execution_count": 33,
     "metadata": {},
     "output_type": "execute_result"
    }
   ],
   "source": [
    "listings['host_response_rate'].value_counts()"
   ]
  },
  {
   "cell_type": "markdown",
   "metadata": {},
   "source": [
    "Seems like a helpful column. The datatype should maybe be changed from string to int, and the large number of missing values are an issue too."
   ]
  },
  {
   "cell_type": "code",
   "execution_count": 34,
   "metadata": {},
   "outputs": [
    {
     "data": {
      "text/plain": [
       "0    100%\n",
       "1    100%\n",
       "2    100%\n",
       "3     NaN\n",
       "4     NaN\n",
       "Name: host_acceptance_rate, dtype: object"
      ]
     },
     "execution_count": 34,
     "metadata": {},
     "output_type": "execute_result"
    }
   ],
   "source": [
    "listings['host_acceptance_rate'].head()"
   ]
  },
  {
   "cell_type": "code",
   "execution_count": 35,
   "metadata": {},
   "outputs": [
    {
     "data": {
      "text/plain": [
       "100%    3044\n",
       "0%         1\n",
       "Name: host_acceptance_rate, dtype: int64"
      ]
     },
     "execution_count": 35,
     "metadata": {},
     "output_type": "execute_result"
    }
   ],
   "source": [
    "listings['host_acceptance_rate'].value_counts()"
   ]
  },
  {
   "cell_type": "markdown",
   "metadata": {},
   "source": [
    "Seems like a column that overwhelmingly contains the same value. I would recommend removal."
   ]
  },
  {
   "cell_type": "code",
   "execution_count": 36,
   "metadata": {},
   "outputs": [
    {
     "data": {
      "text/plain": [
       "f    3038\n",
       "t     778\n",
       "Name: host_is_superhost, dtype: int64"
      ]
     },
     "execution_count": 36,
     "metadata": {},
     "output_type": "execute_result"
    }
   ],
   "source": [
    "listings['host_is_superhost'].value_counts()"
   ]
  },
  {
   "cell_type": "markdown",
   "metadata": {},
   "source": [
    "This is a good column that tells us whether a host qualifies as a \"superhost\". In airBnB speak, this is a host who is experienced and well-rated."
   ]
  },
  {
   "cell_type": "code",
   "execution_count": 37,
   "metadata": {},
   "outputs": [
    {
     "data": {
      "text/plain": [
       "0    https://a0.muscache.com/ac/users/956883/profil...\n",
       "1    https://a0.muscache.com/ac/users/5177328/profi...\n",
       "2    https://a1.muscache.com/ac/users/16708587/prof...\n",
       "3    https://a2.muscache.com/ac/users/9851441/profi...\n",
       "4    https://a0.muscache.com/ac/users/1452570/profi...\n",
       "Name: host_thumbnail_url, dtype: object"
      ]
     },
     "execution_count": 37,
     "metadata": {},
     "output_type": "execute_result"
    }
   ],
   "source": [
    "listings['host_thumbnail_url'].head()"
   ]
  },
  {
   "cell_type": "markdown",
   "metadata": {},
   "source": [
    "At least this column only has two missing values, but I struggle to see how these pictures will help me with my questions."
   ]
  },
  {
   "cell_type": "code",
   "execution_count": 38,
   "metadata": {},
   "outputs": [
    {
     "data": {
      "text/plain": [
       "0    https://a0.muscache.com/ac/users/956883/profil...\n",
       "1    https://a0.muscache.com/ac/users/5177328/profi...\n",
       "2    https://a1.muscache.com/ac/users/16708587/prof...\n",
       "3    https://a2.muscache.com/ac/users/9851441/profi...\n",
       "4    https://a0.muscache.com/ac/users/1452570/profi...\n",
       "Name: host_picture_url, dtype: object"
      ]
     },
     "execution_count": 38,
     "metadata": {},
     "output_type": "execute_result"
    }
   ],
   "source": [
    "listings['host_picture_url'].head()"
   ]
  },
  {
   "cell_type": "code",
   "execution_count": 39,
   "metadata": {},
   "outputs": [
    {
     "data": {
      "text/plain": [
       "Capitol Hill                 405\n",
       "Belltown                     254\n",
       "Ballard                      210\n",
       "Minor                        191\n",
       "Queen Anne                   189\n",
       "Fremont                      147\n",
       "Wallingford                  134\n",
       "North Beacon Hill            101\n",
       "Ravenna                      100\n",
       "Central Business District     93\n",
       "Stevens                       87\n",
       "First Hill                    85\n",
       "University District           80\n",
       "Greenwood                     80\n",
       "Lower Queen Anne              75\n",
       "Columbia City                 61\n",
       "Green Lake                    55\n",
       "Magnolia                      53\n",
       "North Admiral                 53\n",
       "Phinney Ridge                 52\n",
       "Atlantic                      49\n",
       "Leschi                        46\n",
       "Mount Baker                   44\n",
       "Eastlake                      42\n",
       "Madrona                       40\n",
       "Maple Leaf                    40\n",
       "The Junction                  39\n",
       "Roosevelt                     32\n",
       "Pike Place Market             31\n",
       "Genesee                       30\n",
       "                            ... \n",
       "South Park                     6\n",
       "Broadway                       5\n",
       "Brighton                       5\n",
       "Interbay                       4\n",
       "Arbor Heights                  3\n",
       "Industrial District            3\n",
       "Mission District               2\n",
       "Jamaica Plain                  2\n",
       "Kaanapali                      2\n",
       "Fenway/Kenmore                 2\n",
       "Huntington Beach               1\n",
       "Waianae Coast                  1\n",
       "Forestland                     1\n",
       "Baldwin Hills                  1\n",
       "Long Beach                     1\n",
       "Northwest District             1\n",
       "South Beacon Hill              1\n",
       "Kauaʻi                         1\n",
       "Clairemont Mesa East           1\n",
       "Beverly Hills                  1\n",
       "East Village                   1\n",
       "Roxhill                        1\n",
       "Central San Pedro              1\n",
       "North College Park             1\n",
       "North Hollywood                1\n",
       "Manhattan Beach                1\n",
       "Hell's Kitchen                 1\n",
       "Santa Monica                   1\n",
       "Downtown Toronto               1\n",
       "Pinehurst                      1\n",
       "Name: host_neighbourhood, Length: 102, dtype: int64"
      ]
     },
     "execution_count": 39,
     "metadata": {},
     "output_type": "execute_result"
    }
   ],
   "source": [
    "listings['host_neighbourhood'].value_counts()"
   ]
  },
  {
   "cell_type": "markdown",
   "metadata": {},
   "source": [
    "Seems like a useful column that states what neighborhood the host lives in. The 300+ missing values are a problem though."
   ]
  },
  {
   "cell_type": "code",
   "execution_count": null,
   "metadata": {},
   "outputs": [],
   "source": []
  },
  {
   "cell_type": "code",
   "execution_count": 40,
   "metadata": {},
   "outputs": [
    {
     "data": {
      "text/plain": [
       "1.0      2179\n",
       "2.0       620\n",
       "3.0       261\n",
       "4.0       151\n",
       "5.0        98\n",
       "34.0       67\n",
       "6.0        48\n",
       "48.0       46\n",
       "169.0      39\n",
       "37.0       37\n",
       "36.0       36\n",
       "7.0        30\n",
       "9.0        28\n",
       "10.0       26\n",
       "8.0        23\n",
       "11.0       22\n",
       "21.0       21\n",
       "18.0       19\n",
       "17.0       16\n",
       "13.0       12\n",
       "12.0       12\n",
       "354.0      10\n",
       "19.0        4\n",
       "163.0       4\n",
       "15.0        3\n",
       "84.0        2\n",
       "502.0       2\n",
       "Name: host_listings_count, dtype: int64"
      ]
     },
     "execution_count": 40,
     "metadata": {},
     "output_type": "execute_result"
    }
   ],
   "source": [
    "listings['host_listings_count'].value_counts()"
   ]
  },
  {
   "cell_type": "markdown",
   "metadata": {},
   "source": [
    "This is a useful column that tells use how many properties has a host listed on airBnB. Note that it should be of int, not float datatype."
   ]
  },
  {
   "cell_type": "code",
   "execution_count": 41,
   "metadata": {},
   "outputs": [
    {
     "data": {
      "text/plain": [
       "1.0      2179\n",
       "2.0       620\n",
       "3.0       261\n",
       "4.0       151\n",
       "5.0        98\n",
       "34.0       67\n",
       "6.0        48\n",
       "48.0       46\n",
       "169.0      39\n",
       "37.0       37\n",
       "36.0       36\n",
       "7.0        30\n",
       "9.0        28\n",
       "10.0       26\n",
       "8.0        23\n",
       "11.0       22\n",
       "21.0       21\n",
       "18.0       19\n",
       "17.0       16\n",
       "13.0       12\n",
       "12.0       12\n",
       "354.0      10\n",
       "19.0        4\n",
       "163.0       4\n",
       "15.0        3\n",
       "84.0        2\n",
       "502.0       2\n",
       "Name: host_total_listings_count, dtype: int64"
      ]
     },
     "execution_count": 41,
     "metadata": {},
     "output_type": "execute_result"
    }
   ],
   "source": [
    "listings['host_total_listings_count'].value_counts()"
   ]
  },
  {
   "cell_type": "markdown",
   "metadata": {},
   "source": [
    "This column is an apparently identitcal duplicate of the previous one. Should be deleted."
   ]
  },
  {
   "cell_type": "code",
   "execution_count": 42,
   "metadata": {},
   "outputs": [
    {
     "data": {
      "text/plain": [
       "0                 ['email', 'phone', 'reviews', 'kba']\n",
       "1    ['email', 'phone', 'facebook', 'linkedin', 're...\n",
       "2     ['email', 'phone', 'google', 'reviews', 'jumio']\n",
       "3    ['email', 'phone', 'facebook', 'reviews', 'jum...\n",
       "4     ['email', 'phone', 'facebook', 'reviews', 'kba']\n",
       "Name: host_verifications, dtype: object"
      ]
     },
     "execution_count": 42,
     "metadata": {},
     "output_type": "execute_result"
    }
   ],
   "source": [
    "listings['host_verifications'].head()"
   ]
  },
  {
   "cell_type": "markdown",
   "metadata": {},
   "source": [
    "This column tells us how a host can be reached. Seems useful."
   ]
  },
  {
   "cell_type": "code",
   "execution_count": 43,
   "metadata": {},
   "outputs": [
    {
     "data": {
      "text/plain": [
       "t    3809\n",
       "f       7\n",
       "Name: host_has_profile_pic, dtype: int64"
      ]
     },
     "execution_count": 43,
     "metadata": {},
     "output_type": "execute_result"
    }
   ],
   "source": [
    "listings['host_has_profile_pic'].value_counts()"
   ]
  },
  {
   "cell_type": "markdown",
   "metadata": {},
   "source": [
    "Should be boolean, not string."
   ]
  },
  {
   "cell_type": "code",
   "execution_count": 44,
   "metadata": {},
   "outputs": [
    {
     "data": {
      "text/plain": [
       "t    2997\n",
       "f     819\n",
       "Name: host_identity_verified, dtype: int64"
      ]
     },
     "execution_count": 44,
     "metadata": {},
     "output_type": "execute_result"
    }
   ],
   "source": [
    "listings['host_identity_verified'].value_counts()"
   ]
  },
  {
   "cell_type": "markdown",
   "metadata": {},
   "source": [
    "Again, should be of boolean datatype."
   ]
  },
  {
   "cell_type": "code",
   "execution_count": 45,
   "metadata": {},
   "outputs": [
    {
     "data": {
      "text/plain": [
       "1st Avenue, Seattle, WA 98101, United States                           30\n",
       "Hubbell Place, Seattle, WA 98101, United States                        29\n",
       "12th Avenue East, Seattle, WA 98102, United States                     29\n",
       "East Denny Way, Seattle, WA 98122, United States                       28\n",
       "10th Avenue East, Seattle, WA 98102, United States                     28\n",
       "1st Avenue, Seattle, WA 98121, United States                           25\n",
       "Queen Anne Avenue North, Seattle, WA 98109, United States              22\n",
       "Boylston Avenue East, Seattle, WA 98102, United States                 22\n",
       "Summit Avenue East, Seattle, WA 98102, United States                   21\n",
       "Whitman Avenue North, Seattle, WA 98103, United States                 20\n",
       "2nd Avenue, Seattle, WA 98121, United States                           20\n",
       "13th Avenue East, Seattle, WA 98102, United States                     19\n",
       "Cedar Street, Seattle, WA 98121, United States                         19\n",
       "11th Avenue Northeast, Seattle, WA 98105, United States                19\n",
       "Brooklyn Avenue Northeast, Seattle, WA 98105, United States            18\n",
       "9th Avenue, Seattle, WA 98101, United States                           18\n",
       "Corliss Avenue North, Seattle, WA 98103, United States                 18\n",
       "4th Avenue, Seattle, WA 98121, United States                           17\n",
       "19th Avenue, Seattle, WA 98122, United States                          16\n",
       "Bellevue Avenue East, Seattle, WA 98102, United States                 16\n",
       "Westlake Avenue North, Seattle, WA 98109, United States                16\n",
       "Dayton Avenue North, Seattle, WA 98103, United States                  16\n",
       "Western Avenue, Seattle, WA 98121, United States                       15\n",
       "Belmont Avenue East, Seattle, WA 98102, United States                  15\n",
       "2nd Avenue, Seattle, WA 98101, United States                           15\n",
       "East Union Street, Seattle, WA 98122, United States                    15\n",
       "Linden Avenue North, Seattle, WA 98103, United States                  14\n",
       "Dexter Avenue North, Seattle, WA 98109, United States                  14\n",
       "15th Avenue, Seattle, WA 98122, United States                          13\n",
       "18th Avenue East, Seattle, WA 98112, United States                     13\n",
       "                                                                       ..\n",
       "Shoreland Drive South, Seattle, WA 98144, United States                 1\n",
       "2nd & Vine Street, Seattle, WA 98121, United States                     1\n",
       "South Henderson Street, Seattle, WA 98118, United States                1\n",
       "24th Avenue East, Seattle, WA 98122, United States                      1\n",
       "Rainier Avenue South, Seattle, WA 98118, United States                  1\n",
       "N 98th St, Seattle, WA 98103, United States                             1\n",
       "East John Ct, Seattle, WA 98112, United States                          1\n",
       "Bridge Way North, Seattle, WA 98103, United States                      1\n",
       "North 67th Street, Seattle, WA 98103, United States                     1\n",
       "44th Avenue Southwest, Seattle, WA 98146, United States                 1\n",
       "24th Ave S, Seattle, WA 98144, United States                            1\n",
       "South Trenton Street, Seattle, WA 98118, United States                  1\n",
       "35th Ave SW, Seattle, Wa, Seattle, WA 98126, United States              1\n",
       "13th Ave S, Seattle, WA 98144, United States                            1\n",
       "1st Ave S., Seattle, WA 98104, United States                            1\n",
       "Northeast Thornton Place, Seattle, WA 98125, United States              1\n",
       "Princeton Avenue Northeast, Seattle, WA 98105, United States            1\n",
       "2nd Avenue and Pike Street, Seattle, WA 98101, United States            1\n",
       "33rd Avenue Northeast, Seattle, WA 98105, United States                 1\n",
       "W Wheeler St, Seattle, WA 98119, United States                          1\n",
       "6th Ave s, Seattle, WA 98104, United States                             1\n",
       "N 75th Street and Greenwood Ave N, Seattle, WA 98103, United States     1\n",
       "Ferry Avenue Southwest, Seattle, WA 98116, United States                1\n",
       "25th Ave S, Seattle, WA 98144, United States                            1\n",
       "Northeast 88th Street, Seattle, WA 98115, United States                 1\n",
       "N. 68th Street, Seattle, WA 98103, United States                        1\n",
       "Elliott ave, Seattle, WA 98121, United States                           1\n",
       "61st Ave SW, Seattle, WA 98116, United States                           1\n",
       "9th Avenue Northeast, Seattle, WA 98115, United States                  1\n",
       "Northwest 49th Street, Seattle, WA 98107, United States                 1\n",
       "Name: street, Length: 1442, dtype: int64"
      ]
     },
     "execution_count": 45,
     "metadata": {},
     "output_type": "execute_result"
    }
   ],
   "source": [
    "listings['street'].value_counts()"
   ]
  },
  {
   "cell_type": "markdown",
   "metadata": {},
   "source": [
    "Good column, but I wonder as to whether it should be shortened. At the end of the day, all the properties in this dataset are in Seattle."
   ]
  },
  {
   "cell_type": "code",
   "execution_count": 46,
   "metadata": {},
   "outputs": [
    {
     "data": {
      "text/plain": [
       "Capitol Hill                 351\n",
       "Ballard                      213\n",
       "Belltown                     204\n",
       "Minor                        192\n",
       "Queen Anne                   187\n",
       "Fremont                      148\n",
       "Wallingford                  143\n",
       "University District          107\n",
       "First Hill                   105\n",
       "Stevens                       98\n",
       "North Beacon Hill             95\n",
       "Lower Queen Anne              83\n",
       "Central Business District     81\n",
       "Greenwood                     79\n",
       "Columbia City                 61\n",
       "Ravenna                       59\n",
       "Phinney Ridge                 56\n",
       "Magnolia                      55\n",
       "Green Lake                    52\n",
       "Atlantic                      50\n",
       "North Admiral                 48\n",
       "Mount Baker                   46\n",
       "Leschi                        44\n",
       "Maple Leaf                    41\n",
       "Eastlake                      41\n",
       "Madrona                       40\n",
       "Pike Place Market             39\n",
       "The Junction                  36\n",
       "Seward Park                   32\n",
       "Bryant                        32\n",
       "                            ... \n",
       "Olympic Hills                 12\n",
       "Westlake                      12\n",
       "Licton Springs                12\n",
       "Highland Park                 12\n",
       "Yesler Terrace                12\n",
       "High Point                    11\n",
       "North Beach/Blue Ridge        11\n",
       "Fauntleroy                    10\n",
       "Windermere                    10\n",
       "Laurelhurst                    9\n",
       "Meadowbrook                    9\n",
       "Seaview                        9\n",
       "Cedar Park                     8\n",
       "Riverview                      8\n",
       "Interbay                       7\n",
       "Georgetown                     7\n",
       "South Delridge                 7\n",
       "Holly Park                     6\n",
       "View Ridge                     6\n",
       "Broadway                       5\n",
       "Brighton                       5\n",
       "Industrial District            3\n",
       "Arbor Heights                  3\n",
       "Pinehurst                      3\n",
       "South Beacon Hill              2\n",
       "South Park                     2\n",
       "Pike Market                    2\n",
       "Fairmount Park                 1\n",
       "North College Park             1\n",
       "Roxhill                        1\n",
       "Name: neighbourhood, Length: 81, dtype: int64"
      ]
     },
     "execution_count": 46,
     "metadata": {},
     "output_type": "execute_result"
    }
   ],
   "source": [
    "listings['neighbourhood'].value_counts()"
   ]
  },
  {
   "cell_type": "markdown",
   "metadata": {},
   "source": [
    "Seems like a decent column, but there are over 400 missing values."
   ]
  },
  {
   "cell_type": "code",
   "execution_count": 47,
   "metadata": {},
   "outputs": [
    {
     "data": {
      "text/plain": [
       "Broadway                     397\n",
       "Belltown                     234\n",
       "Wallingford                  167\n",
       "Fremont                      158\n",
       "Minor                        135\n",
       "University District          122\n",
       "Stevens                      119\n",
       "First Hill                   108\n",
       "Central Business District    103\n",
       "Lower Queen Anne              94\n",
       "Greenwood                     89\n",
       "East Queen Anne               82\n",
       "North Beacon Hill             78\n",
       "Phinney Ridge                 73\n",
       "Adams                         70\n",
       "Mann                          67\n",
       "Ravenna                       67\n",
       "West Queen Anne               65\n",
       "West Woodland                 64\n",
       "Columbia City                 58\n",
       "North Queen Anne              54\n",
       "Green Lake                    54\n",
       "Atlantic                      53\n",
       "Leschi                        53\n",
       "Loyal Heights                 52\n",
       "Mount Baker                   50\n",
       "North Admiral                 49\n",
       "Madrona                       47\n",
       "Eastlake                      45\n",
       "Seward Park                   44\n",
       "                            ... \n",
       "Southeast Magnolia            17\n",
       "Olympic Hills                 16\n",
       "Haller Lake                   15\n",
       "Victory Heights               15\n",
       "Briarcliff                    14\n",
       "High Point                    14\n",
       "Portage Bay                   14\n",
       "Harrison/Denny-Blaine         14\n",
       "North Beach/Blue Ridge        14\n",
       "Bitter Lake                   13\n",
       "Brighton                      13\n",
       "Seaview                       12\n",
       "South Delridge                12\n",
       "Interbay                      11\n",
       "Highland Park                 11\n",
       "Fauntleroy                    10\n",
       "Laurelhurst                   10\n",
       "Windermere                    10\n",
       "Meadowbrook                    9\n",
       "Riverview                      8\n",
       "Cedar Park                     8\n",
       "Georgetown                     8\n",
       "View Ridge                     7\n",
       "Industrial District            6\n",
       "Holly Park                     6\n",
       "Arbor Heights                  5\n",
       "South Beacon Hill              4\n",
       "Pinehurst                      4\n",
       "South Park                     3\n",
       "Roxhill                        2\n",
       "Name: neighbourhood_cleansed, Length: 87, dtype: int64"
      ]
     },
     "execution_count": 47,
     "metadata": {},
     "output_type": "execute_result"
    }
   ],
   "source": [
    "listings['neighbourhood_cleansed'].value_counts()"
   ]
  },
  {
   "cell_type": "markdown",
   "metadata": {},
   "source": [
    "This cleansed version of the previous column does not contain missing values. I would keep this one and delete the previous one."
   ]
  },
  {
   "cell_type": "code",
   "execution_count": 48,
   "metadata": {},
   "outputs": [
    {
     "data": {
      "text/plain": [
       "Other neighborhoods    794\n",
       "Capitol Hill           567\n",
       "Downtown               530\n",
       "Central Area           369\n",
       "Queen Anne             295\n",
       "Ballard                230\n",
       "West Seattle           203\n",
       "Rainier Valley         159\n",
       "University District    122\n",
       "Beacon Hill            118\n",
       "Cascade                 89\n",
       "Northgate               80\n",
       "Delridge                79\n",
       "Lake City               67\n",
       "Magnolia                61\n",
       "Seward Park             44\n",
       "Interbay                11\n",
       "Name: neighbourhood_group_cleansed, dtype: int64"
      ]
     },
     "execution_count": 48,
     "metadata": {},
     "output_type": "execute_result"
    }
   ],
   "source": [
    "listings['neighbourhood_group_cleansed'].value_counts()"
   ]
  },
  {
   "cell_type": "markdown",
   "metadata": {},
   "source": [
    "A simplified version of the previous column. I could potentially keep both and see which one will be mroe helpful."
   ]
  },
  {
   "cell_type": "code",
   "execution_count": 49,
   "metadata": {},
   "outputs": [
    {
     "data": {
      "text/plain": [
       "Seattle                  3810\n",
       "West Seattle                2\n",
       "Seattle                     2\n",
       "西雅图                         1\n",
       "seattle                     1\n",
       "Ballard, Seattle            1\n",
       "Phinney Ridge Seattle       1\n",
       "Name: city, dtype: int64"
      ]
     },
     "execution_count": 49,
     "metadata": {},
     "output_type": "execute_result"
    }
   ],
   "source": [
    "listings['city'].value_counts()"
   ]
  },
  {
   "cell_type": "markdown",
   "metadata": {},
   "source": [
    "All values in this column are \"Seattle\" except for six. One of the six is simply \"seattle\", with lowercase letters, and another one is, strangely enough, written in Chinese. I would delete this column. We are, after all, clearly dealing with a dataset that focuses on Seattle's airBnB listings, and not anyone else's."
   ]
  },
  {
   "cell_type": "code",
   "execution_count": 50,
   "metadata": {},
   "outputs": [
    {
     "data": {
      "text/plain": [
       "WA    3817\n",
       "wa       1\n",
       "Name: state, dtype: int64"
      ]
     },
     "execution_count": 50,
     "metadata": {},
     "output_type": "execute_result"
    }
   ],
   "source": [
    "listings['state'].value_counts()"
   ]
  },
  {
   "cell_type": "markdown",
   "metadata": {},
   "source": [
    "All of this dataset's listings are, unsurprisingly, located in Washington state. No surprise here, and therefore, I would delete this redundant column."
   ]
  },
  {
   "cell_type": "code",
   "execution_count": 51,
   "metadata": {},
   "outputs": [
    {
     "data": {
      "text/plain": [
       "98122        420\n",
       "98103        394\n",
       "98102        339\n",
       "98105        225\n",
       "98109        202\n",
       "98101        201\n",
       "98144        200\n",
       "98121        196\n",
       "98107        180\n",
       "98115        178\n",
       "98112        167\n",
       "98117        164\n",
       "98118        154\n",
       "98119        143\n",
       "98116        112\n",
       "98104         95\n",
       "98125         71\n",
       "98199         66\n",
       "98126         63\n",
       "98106         58\n",
       "98108         56\n",
       "98133         46\n",
       "98136         44\n",
       "98177         19\n",
       "98178          7\n",
       "98134          5\n",
       "98146          5\n",
       "99\\n98122      1\n",
       "Name: zipcode, dtype: int64"
      ]
     },
     "execution_count": 51,
     "metadata": {},
     "output_type": "execute_result"
    }
   ],
   "source": [
    "listings['zipcode'].value_counts()"
   ]
  },
  {
   "cell_type": "code",
   "execution_count": 52,
   "metadata": {},
   "outputs": [
    {
     "data": {
      "text/plain": [
       "Seattle    3818\n",
       "Name: market, dtype: int64"
      ]
     },
     "execution_count": 52,
     "metadata": {},
     "output_type": "execute_result"
    }
   ],
   "source": [
    "listings['market'].value_counts()"
   ]
  },
  {
   "cell_type": "markdown",
   "metadata": {},
   "source": [
    "The market is the same for all values, \"Seattle\". I will delete this useless column."
   ]
  },
  {
   "cell_type": "code",
   "execution_count": 53,
   "metadata": {},
   "outputs": [
    {
     "data": {
      "text/plain": [
       "Seattle, WA                  3810\n",
       "Seattle , WA                    2\n",
       "West Seattle, WA                2\n",
       "Ballard, Seattle, WA            1\n",
       "seattle, wa                     1\n",
       "Phinney Ridge Seattle, WA       1\n",
       "西雅图, WA                         1\n",
       "Name: smart_location, dtype: int64"
      ]
     },
     "execution_count": 53,
     "metadata": {},
     "output_type": "execute_result"
    }
   ],
   "source": [
    "listings['smart_location'].value_counts()"
   ]
  },
  {
   "cell_type": "markdown",
   "metadata": {},
   "source": [
    "Similar to a previous column, smart_location lists Seattle, WA for almost all values - except for one that uses the Chinese name for the city. I will delete it."
   ]
  },
  {
   "cell_type": "code",
   "execution_count": 54,
   "metadata": {},
   "outputs": [
    {
     "data": {
      "text/plain": [
       "US    3818\n",
       "Name: country_code, dtype: int64"
      ]
     },
     "execution_count": 54,
     "metadata": {},
     "output_type": "execute_result"
    }
   ],
   "source": [
    "listings['country_code'].value_counts()"
   ]
  },
  {
   "cell_type": "markdown",
   "metadata": {},
   "source": [
    "Unsurprisingly, listings that are in Seattle are all in the US. Deletion is necessary."
   ]
  },
  {
   "cell_type": "code",
   "execution_count": 55,
   "metadata": {},
   "outputs": [
    {
     "data": {
      "text/plain": [
       "United States    3818\n",
       "Name: country, dtype: int64"
      ]
     },
     "execution_count": 55,
     "metadata": {},
     "output_type": "execute_result"
    }
   ],
   "source": [
    "listings['country'].value_counts()"
   ]
  },
  {
   "cell_type": "markdown",
   "metadata": {},
   "source": [
    "The country column also unanimously states \"United States\". Deletion is necessary."
   ]
  },
  {
   "cell_type": "code",
   "execution_count": 56,
   "metadata": {},
   "outputs": [
    {
     "data": {
      "text/plain": [
       "0    47.636289\n",
       "1    47.639123\n",
       "2    47.629724\n",
       "3    47.638473\n",
       "4    47.632918\n",
       "Name: latitude, dtype: float64"
      ]
     },
     "execution_count": 56,
     "metadata": {},
     "output_type": "execute_result"
    }
   ],
   "source": [
    "listings['latitude'].head()"
   ]
  },
  {
   "cell_type": "code",
   "execution_count": 57,
   "metadata": {},
   "outputs": [
    {
     "data": {
      "text/plain": [
       "0   -122.371025\n",
       "1   -122.365666\n",
       "2   -122.369483\n",
       "3   -122.369279\n",
       "4   -122.372471\n",
       "Name: longitude, dtype: float64"
      ]
     },
     "execution_count": 57,
     "metadata": {},
     "output_type": "execute_result"
    }
   ],
   "source": [
    "listings['longitude'].head()"
   ]
  },
  {
   "cell_type": "code",
   "execution_count": 58,
   "metadata": {},
   "outputs": [
    {
     "data": {
      "text/plain": [
       "t    3412\n",
       "f     406\n",
       "Name: is_location_exact, dtype: int64"
      ]
     },
     "execution_count": 58,
     "metadata": {},
     "output_type": "execute_result"
    }
   ],
   "source": [
    "listings['is_location_exact'].value_counts()"
   ]
  },
  {
   "cell_type": "markdown",
   "metadata": {},
   "source": [
    "This should be a boolean, not a string."
   ]
  },
  {
   "cell_type": "code",
   "execution_count": 59,
   "metadata": {},
   "outputs": [
    {
     "data": {
      "text/plain": [
       "House              1733\n",
       "Apartment          1708\n",
       "Townhouse           118\n",
       "Condominium          91\n",
       "Loft                 40\n",
       "Bed & Breakfast      37\n",
       "Other                22\n",
       "Cabin                21\n",
       "Camper/RV            13\n",
       "Bungalow             13\n",
       "Boat                  8\n",
       "Tent                  5\n",
       "Treehouse             3\n",
       "Dorm                  2\n",
       "Chalet                2\n",
       "Yurt                  1\n",
       "Name: property_type, dtype: int64"
      ]
     },
     "execution_count": 59,
     "metadata": {},
     "output_type": "execute_result"
    }
   ],
   "source": [
    "listings['property_type'].value_counts()"
   ]
  },
  {
   "cell_type": "markdown",
   "metadata": {},
   "source": [
    "This is a good column that lists certain types of properties."
   ]
  },
  {
   "cell_type": "code",
   "execution_count": 60,
   "metadata": {},
   "outputs": [
    {
     "data": {
      "text/plain": [
       "Entire home/apt    2541\n",
       "Private room       1160\n",
       "Shared room         117\n",
       "Name: room_type, dtype: int64"
      ]
     },
     "execution_count": 60,
     "metadata": {},
     "output_type": "execute_result"
    }
   ],
   "source": [
    "listings['room_type'].value_counts()"
   ]
  },
  {
   "cell_type": "markdown",
   "metadata": {},
   "source": [
    "Three categories are present in this column."
   ]
  },
  {
   "cell_type": "code",
   "execution_count": 61,
   "metadata": {},
   "outputs": [
    {
     "data": {
      "text/plain": [
       "2     1627\n",
       "4      785\n",
       "3      398\n",
       "6      332\n",
       "1      256\n",
       "5      184\n",
       "8      119\n",
       "7       52\n",
       "10      25\n",
       "12      15\n",
       "9       13\n",
       "16       4\n",
       "11       3\n",
       "14       3\n",
       "15       2\n",
       "Name: accommodates, dtype: int64"
      ]
     },
     "execution_count": 61,
     "metadata": {},
     "output_type": "execute_result"
    }
   ],
   "source": [
    "listings['accommodates'].value_counts()"
   ]
  },
  {
   "cell_type": "code",
   "execution_count": 62,
   "metadata": {
    "scrolled": true
   },
   "outputs": [
    {
     "data": {
      "text/plain": [
       "1.0    2882\n",
       "2.0     373\n",
       "1.5     248\n",
       "2.5     124\n",
       "3.0      64\n",
       "3.5      57\n",
       "0.5      31\n",
       "0.0       8\n",
       "4.0       8\n",
       "4.5       3\n",
       "5.0       2\n",
       "8.0       2\n",
       "Name: bathrooms, dtype: int64"
      ]
     },
     "execution_count": 62,
     "metadata": {},
     "output_type": "execute_result"
    }
   ],
   "source": [
    "listings['bathrooms'].value_counts()"
   ]
  },
  {
   "cell_type": "code",
   "execution_count": 63,
   "metadata": {},
   "outputs": [
    {
     "data": {
      "text/plain": [
       "1.0    2417\n",
       "2.0     640\n",
       "0.0     372\n",
       "3.0     283\n",
       "4.0      69\n",
       "5.0      24\n",
       "6.0       6\n",
       "7.0       1\n",
       "Name: bedrooms, dtype: int64"
      ]
     },
     "execution_count": 63,
     "metadata": {},
     "output_type": "execute_result"
    }
   ],
   "source": [
    "listings['bedrooms'].value_counts()"
   ]
  },
  {
   "cell_type": "markdown",
   "metadata": {},
   "source": [
    "The bedrooms column should be int, not float."
   ]
  },
  {
   "cell_type": "code",
   "execution_count": 64,
   "metadata": {},
   "outputs": [
    {
     "data": {
      "text/plain": [
       "1.0     2201\n",
       "2.0      912\n",
       "3.0      433\n",
       "4.0      152\n",
       "5.0       73\n",
       "6.0       21\n",
       "7.0       14\n",
       "8.0        4\n",
       "9.0        4\n",
       "10.0       2\n",
       "15.0       1\n",
       "Name: beds, dtype: int64"
      ]
     },
     "execution_count": 64,
     "metadata": {},
     "output_type": "execute_result"
    }
   ],
   "source": [
    "listings['beds'].value_counts()"
   ]
  },
  {
   "cell_type": "markdown",
   "metadata": {},
   "source": [
    "The beds column should also be int, not float."
   ]
  },
  {
   "cell_type": "code",
   "execution_count": 65,
   "metadata": {},
   "outputs": [
    {
     "data": {
      "text/plain": [
       "Real Bed         3657\n",
       "Futon              74\n",
       "Pull-out Sofa      47\n",
       "Airbed             27\n",
       "Couch              13\n",
       "Name: bed_type, dtype: int64"
      ]
     },
     "execution_count": 65,
     "metadata": {},
     "output_type": "execute_result"
    }
   ],
   "source": [
    "listings['bed_type'].value_counts()"
   ]
  },
  {
   "cell_type": "markdown",
   "metadata": {},
   "source": [
    "Different categories of beds are counted."
   ]
  },
  {
   "cell_type": "code",
   "execution_count": 66,
   "metadata": {},
   "outputs": [
    {
     "data": {
      "text/plain": [
       "0    {TV,\"Cable TV\",Internet,\"Wireless Internet\",\"A...\n",
       "1    {TV,Internet,\"Wireless Internet\",Kitchen,\"Free...\n",
       "2    {TV,\"Cable TV\",Internet,\"Wireless Internet\",\"A...\n",
       "3    {Internet,\"Wireless Internet\",Kitchen,\"Indoor ...\n",
       "4    {TV,\"Cable TV\",Internet,\"Wireless Internet\",Ki...\n",
       "Name: amenities, dtype: object"
      ]
     },
     "execution_count": 66,
     "metadata": {},
     "output_type": "execute_result"
    }
   ],
   "source": [
    "listings['amenities'].head()"
   ]
  },
  {
   "cell_type": "markdown",
   "metadata": {},
   "source": [
    "Available amenities are listed. One could use this column to check how many properties have each one of them."
   ]
  },
  {
   "cell_type": "code",
   "execution_count": 67,
   "metadata": {},
   "outputs": [
    {
     "data": {
      "text/plain": [
       "1200.0    8\n",
       "800.0     7\n",
       "1300.0    5\n",
       "0.0       5\n",
       "750.0     4\n",
       "650.0     4\n",
       "500.0     4\n",
       "1.0       3\n",
       "1000.0    3\n",
       "250.0     3\n",
       "550.0     3\n",
       "600.0     2\n",
       "2100.0    2\n",
       "3000.0    2\n",
       "900.0     2\n",
       "450.0     2\n",
       "1800.0    2\n",
       "2.0       2\n",
       "1150.0    2\n",
       "300.0     2\n",
       "2000.0    2\n",
       "1600.0    2\n",
       "1400.0    2\n",
       "850.0     1\n",
       "200.0     1\n",
       "3.0       1\n",
       "1850.0    1\n",
       "950.0     1\n",
       "120.0     1\n",
       "730.0     1\n",
       "435.0     1\n",
       "660.0     1\n",
       "2750.0    1\n",
       "675.0     1\n",
       "170.0     1\n",
       "700.0     1\n",
       "710.0     1\n",
       "183.0     1\n",
       "770.0     1\n",
       "340.0     1\n",
       "420.0     1\n",
       "350.0     1\n",
       "140.0     1\n",
       "485.0     1\n",
       "2600.0    1\n",
       "1100.0    1\n",
       "400.0     1\n",
       "Name: square_feet, dtype: int64"
      ]
     },
     "execution_count": 67,
     "metadata": {},
     "output_type": "execute_result"
    }
   ],
   "source": [
    "listings['square_feet'].value_counts()"
   ]
  },
  {
   "cell_type": "markdown",
   "metadata": {},
   "source": [
    "The square_feet column consists overwhelmingly of missing values. It should be deleted."
   ]
  },
  {
   "cell_type": "code",
   "execution_count": 68,
   "metadata": {},
   "outputs": [
    {
     "data": {
      "text/plain": [
       "$150.00    162\n",
       "$100.00    159\n",
       "$75.00     118\n",
       "$99.00     110\n",
       "$95.00     110\n",
       "$90.00     107\n",
       "$125.00    105\n",
       "$85.00     104\n",
       "$65.00     104\n",
       "$80.00      96\n",
       "$110.00     86\n",
       "$70.00      80\n",
       "$55.00      76\n",
       "$120.00     74\n",
       "$200.00     74\n",
       "$175.00     73\n",
       "$60.00      72\n",
       "$50.00      70\n",
       "$250.00     64\n",
       "$115.00     64\n",
       "$69.00      59\n",
       "$40.00      51\n",
       "$105.00     50\n",
       "$79.00      46\n",
       "$129.00     44\n",
       "$89.00      40\n",
       "$135.00     40\n",
       "$130.00     36\n",
       "$45.00      35\n",
       "$49.00      34\n",
       "          ... \n",
       "$525.00      1\n",
       "$360.00      1\n",
       "$499.00      1\n",
       "$480.00      1\n",
       "$269.00      1\n",
       "$255.00      1\n",
       "$461.00      1\n",
       "$113.00      1\n",
       "$673.00      1\n",
       "$338.00      1\n",
       "$749.00      1\n",
       "$405.00      1\n",
       "$256.00      1\n",
       "$557.00      1\n",
       "$775.00      1\n",
       "$207.00      1\n",
       "$276.00      1\n",
       "$357.00      1\n",
       "$899.00      1\n",
       "$228.00      1\n",
       "$141.00      1\n",
       "$22.00       1\n",
       "$575.00      1\n",
       "$465.00      1\n",
       "$177.00      1\n",
       "$498.00      1\n",
       "$415.00      1\n",
       "$232.00      1\n",
       "$333.00      1\n",
       "$999.00      1\n",
       "Name: price, Length: 273, dtype: int64"
      ]
     },
     "execution_count": 68,
     "metadata": {},
     "output_type": "execute_result"
    }
   ],
   "source": [
    "listings['price'].value_counts()"
   ]
  },
  {
   "cell_type": "code",
   "execution_count": 69,
   "metadata": {},
   "outputs": [
    {
     "data": {
      "text/plain": [
       "0          NaN\n",
       "1    $1,000.00\n",
       "2          NaN\n",
       "3      $650.00\n",
       "4          NaN\n",
       "Name: weekly_price, dtype: object"
      ]
     },
     "execution_count": 69,
     "metadata": {},
     "output_type": "execute_result"
    }
   ],
   "source": [
    "listings['weekly_price'].head()"
   ]
  },
  {
   "cell_type": "code",
   "execution_count": 70,
   "metadata": {},
   "outputs": [
    {
     "data": {
      "text/plain": [
       "0          NaN\n",
       "1    $3,000.00\n",
       "2          NaN\n",
       "3    $2,300.00\n",
       "4          NaN\n",
       "Name: monthly_price, dtype: object"
      ]
     },
     "execution_count": 70,
     "metadata": {},
     "output_type": "execute_result"
    }
   ],
   "source": [
    "listings['monthly_price'].head()"
   ]
  },
  {
   "cell_type": "markdown",
   "metadata": {},
   "source": [
    "There are many missing values in both the weekly and the monthly price columns. Contrary to my first guess, quite a few rows are missing values in both columns. I had thought that if a row was missing one of them, it would have the other."
   ]
  },
  {
   "cell_type": "code",
   "execution_count": 71,
   "metadata": {},
   "outputs": [
    {
     "data": {
      "text/plain": [
       "$100.00      348\n",
       "$200.00      283\n",
       "$300.00      235\n",
       "$250.00      232\n",
       "$500.00      230\n",
       "$150.00      191\n",
       "$350.00       79\n",
       "$95.00        66\n",
       "$400.00       49\n",
       "$1,000.00     29\n",
       "$750.00       14\n",
       "$125.00       12\n",
       "$1,500.00     11\n",
       "$800.00       10\n",
       "$175.00        9\n",
       "$600.00        9\n",
       "$99.00         5\n",
       "$700.00        5\n",
       "$2,500.00      5\n",
       "$450.00        5\n",
       "$2,000.00      4\n",
       "$120.00        3\n",
       "$995.00        3\n",
       "$295.00        3\n",
       "$199.00        3\n",
       "$550.00        2\n",
       "$1,200.00      2\n",
       "$149.00        1\n",
       "$650.00        1\n",
       "$134.00        1\n",
       "$140.00        1\n",
       "$5,000.00      1\n",
       "$220.00        1\n",
       "$1,900.00      1\n",
       "$399.00        1\n",
       "$360.00        1\n",
       "$499.00        1\n",
       "$780.00        1\n",
       "$109.00        1\n",
       "$115.00        1\n",
       "$225.00        1\n",
       "$449.00        1\n",
       "$180.00        1\n",
       "$195.00        1\n",
       "$375.00        1\n",
       "$185.00        1\n",
       "Name: security_deposit, dtype: int64"
      ]
     },
     "execution_count": 71,
     "metadata": {},
     "output_type": "execute_result"
    }
   ],
   "source": [
    "listings['security_deposit'].value_counts()"
   ]
  },
  {
   "cell_type": "markdown",
   "metadata": {},
   "source": [
    "Many missing values. Also, the column should be int, not string."
   ]
  },
  {
   "cell_type": "code",
   "execution_count": 72,
   "metadata": {},
   "outputs": [
    {
     "data": {
      "text/plain": [
       "$50.00     310\n",
       "$25.00     245\n",
       "$60.00     185\n",
       "$20.00     171\n",
       "$100.00    170\n",
       "$35.00     157\n",
       "$10.00     154\n",
       "$30.00     137\n",
       "$75.00     136\n",
       "$40.00     123\n",
       "$15.00     105\n",
       "$45.00      72\n",
       "$150.00     60\n",
       "$80.00      57\n",
       "$65.00      46\n",
       "$99.00      46\n",
       "$125.00     40\n",
       "$95.00      39\n",
       "$85.00      35\n",
       "$5.00       34\n",
       "$90.00      32\n",
       "$120.00     27\n",
       "$70.00      25\n",
       "$55.00      21\n",
       "$200.00     20\n",
       "$250.00     20\n",
       "$175.00     15\n",
       "$96.00      13\n",
       "$300.00     12\n",
       "$110.00     11\n",
       "          ... \n",
       "$179.00      1\n",
       "$230.00      1\n",
       "$76.00       1\n",
       "$97.00       1\n",
       "$58.00       1\n",
       "$111.00      1\n",
       "$42.00       1\n",
       "$143.00      1\n",
       "$68.00       1\n",
       "$240.00      1\n",
       "$194.00      1\n",
       "$274.00      1\n",
       "$210.00      1\n",
       "$52.00       1\n",
       "$185.00      1\n",
       "$189.00      1\n",
       "$117.00      1\n",
       "$137.00      1\n",
       "$275.00      1\n",
       "$106.00      1\n",
       "$26.00       1\n",
       "$134.00      1\n",
       "$87.00       1\n",
       "$178.00      1\n",
       "$79.00       1\n",
       "$142.00      1\n",
       "$27.00       1\n",
       "$22.00       1\n",
       "$131.00      1\n",
       "$130.00      1\n",
       "Name: cleaning_fee, Length: 118, dtype: int64"
      ]
     },
     "execution_count": 72,
     "metadata": {},
     "output_type": "execute_result"
    }
   ],
   "source": [
    "listings['cleaning_fee'].value_counts()"
   ]
  },
  {
   "cell_type": "markdown",
   "metadata": {},
   "source": [
    "Still many missing values. Should also be int, not string."
   ]
  },
  {
   "cell_type": "code",
   "execution_count": 73,
   "metadata": {},
   "outputs": [
    {
     "data": {
      "text/plain": [
       "1     2275\n",
       "2      989\n",
       "4      237\n",
       "0       92\n",
       "3       80\n",
       "6       71\n",
       "5       28\n",
       "8       24\n",
       "7       14\n",
       "9        2\n",
       "10       2\n",
       "15       1\n",
       "13       1\n",
       "11       1\n",
       "12       1\n",
       "Name: guests_included, dtype: int64"
      ]
     },
     "execution_count": 73,
     "metadata": {},
     "output_type": "execute_result"
    }
   ],
   "source": [
    "listings['guests_included'].value_counts()"
   ]
  },
  {
   "cell_type": "code",
   "execution_count": 74,
   "metadata": {},
   "outputs": [
    {
     "data": {
      "text/plain": [
       "$0.00      2048\n",
       "$10.00      355\n",
       "$25.00      322\n",
       "$15.00      309\n",
       "$20.00      308\n",
       "$50.00      113\n",
       "$30.00       85\n",
       "$5.00        58\n",
       "$40.00       39\n",
       "$35.00       35\n",
       "$100.00      16\n",
       "$75.00       14\n",
       "$7.00        12\n",
       "$45.00       10\n",
       "$29.00        9\n",
       "$12.00        8\n",
       "$8.00         8\n",
       "$60.00        8\n",
       "$17.00        6\n",
       "$18.00        6\n",
       "$19.00        5\n",
       "$9.00         5\n",
       "$6.00         4\n",
       "$14.00        4\n",
       "$28.00        3\n",
       "$55.00        3\n",
       "$80.00        3\n",
       "$300.00       2\n",
       "$200.00       2\n",
       "$49.00        2\n",
       "$22.00        2\n",
       "$48.00        1\n",
       "$44.00        1\n",
       "$13.00        1\n",
       "$68.00        1\n",
       "$21.00        1\n",
       "$85.00        1\n",
       "$27.00        1\n",
       "$33.00        1\n",
       "$26.00        1\n",
       "$71.00        1\n",
       "$250.00       1\n",
       "$16.00        1\n",
       "$36.00        1\n",
       "$175.00       1\n",
       "Name: extra_people, dtype: int64"
      ]
     },
     "execution_count": 74,
     "metadata": {},
     "output_type": "execute_result"
    }
   ],
   "source": [
    "listings['extra_people'].value_counts()"
   ]
  },
  {
   "cell_type": "markdown",
   "metadata": {},
   "source": [
    "Should be int, not string. "
   ]
  },
  {
   "cell_type": "code",
   "execution_count": 75,
   "metadata": {},
   "outputs": [
    {
     "data": {
      "text/plain": [
       "1       1610\n",
       "2       1423\n",
       "3        480\n",
       "4        122\n",
       "5         67\n",
       "7         50\n",
       "6         16\n",
       "14        16\n",
       "20        11\n",
       "30         6\n",
       "10         5\n",
       "13         2\n",
       "1000       1\n",
       "29         1\n",
       "28         1\n",
       "26         1\n",
       "11         1\n",
       "12         1\n",
       "8          1\n",
       "15         1\n",
       "21         1\n",
       "31         1\n",
       "Name: minimum_nights, dtype: int64"
      ]
     },
     "execution_count": 75,
     "metadata": {},
     "output_type": "execute_result"
    }
   ],
   "source": [
    "listings['minimum_nights'].value_counts()"
   ]
  },
  {
   "cell_type": "code",
   "execution_count": 76,
   "metadata": {},
   "outputs": [
    {
     "data": {
      "text/plain": [
       "1125      2453\n",
       "30         183\n",
       "365        148\n",
       "14         123\n",
       "7          108\n",
       "90          85\n",
       "60          69\n",
       "10          58\n",
       "180         55\n",
       "29          51\n",
       "28          47\n",
       "21          39\n",
       "15          38\n",
       "5           38\n",
       "31          32\n",
       "3           29\n",
       "6           26\n",
       "4           24\n",
       "120         20\n",
       "20          17\n",
       "730         16\n",
       "13           9\n",
       "9            9\n",
       "45           8\n",
       "100          8\n",
       "2            8\n",
       "8            7\n",
       "27           6\n",
       "35           6\n",
       "32           5\n",
       "          ... \n",
       "11           4\n",
       "40           4\n",
       "99           3\n",
       "12           3\n",
       "24           3\n",
       "93           3\n",
       "50           3\n",
       "26           3\n",
       "1000         2\n",
       "125          2\n",
       "183          2\n",
       "18           2\n",
       "270          2\n",
       "23           2\n",
       "33           2\n",
       "95           1\n",
       "91           1\n",
       "999          1\n",
       "400          1\n",
       "352          1\n",
       "44           1\n",
       "19           1\n",
       "70           1\n",
       "100000       1\n",
       "160          1\n",
       "500          1\n",
       "234          1\n",
       "260          1\n",
       "330          1\n",
       "1825         1\n",
       "Name: maximum_nights, Length: 68, dtype: int64"
      ]
     },
     "execution_count": 76,
     "metadata": {},
     "output_type": "execute_result"
    }
   ],
   "source": [
    "listings['maximum_nights'].value_counts()"
   ]
  },
  {
   "cell_type": "code",
   "execution_count": 77,
   "metadata": {},
   "outputs": [
    {
     "data": {
      "text/plain": [
       "today            706\n",
       "2 weeks ago      347\n",
       "3 weeks ago      300\n",
       "2 months ago     281\n",
       "a week ago       248\n",
       "yesterday        231\n",
       "3 months ago     218\n",
       "4 weeks ago      213\n",
       "3 days ago       162\n",
       "5 weeks ago      156\n",
       "4 days ago       145\n",
       "4 months ago     133\n",
       "5 days ago       132\n",
       "6 weeks ago      118\n",
       "2 days ago        96\n",
       "5 months ago      91\n",
       "7 weeks ago       63\n",
       "6 months ago      29\n",
       "6 days ago        28\n",
       "1 week ago        26\n",
       "never             24\n",
       "7 months ago      23\n",
       "8 months ago      14\n",
       "10 months ago      8\n",
       "9 months ago       7\n",
       "11 months ago      5\n",
       "12 months ago      5\n",
       "22 months ago      2\n",
       "13 months ago      2\n",
       "30 months ago      1\n",
       "15 months ago      1\n",
       "16 months ago      1\n",
       "17 months ago      1\n",
       "14 months ago      1\n",
       "Name: calendar_updated, dtype: int64"
      ]
     },
     "execution_count": 77,
     "metadata": {},
     "output_type": "execute_result"
    }
   ],
   "source": [
    "listings['calendar_updated'].value_counts()"
   ]
  },
  {
   "cell_type": "code",
   "execution_count": 78,
   "metadata": {},
   "outputs": [
    {
     "data": {
      "text/plain": [
       "t    3818\n",
       "Name: has_availability, dtype: int64"
      ]
     },
     "execution_count": 78,
     "metadata": {},
     "output_type": "execute_result"
    }
   ],
   "source": [
    "listings['has_availability'].value_counts()"
   ]
  },
  {
   "cell_type": "markdown",
   "metadata": {},
   "source": [
    "This column seems redundant. It has the same value, t, in all rows."
   ]
  },
  {
   "cell_type": "code",
   "execution_count": 79,
   "metadata": {},
   "outputs": [
    {
     "data": {
      "text/plain": [
       "30    981\n",
       "0     883\n",
       "29    141\n",
       "25    110\n",
       "27    109\n",
       "26    102\n",
       "28     96\n",
       "20     94\n",
       "23     93\n",
       "21     84\n",
       "24     81\n",
       "22     80\n",
       "2      74\n",
       "16     73\n",
       "18     72\n",
       "19     67\n",
       "3      63\n",
       "17     60\n",
       "1      54\n",
       "10     52\n",
       "14     51\n",
       "9      49\n",
       "8      48\n",
       "5      48\n",
       "12     46\n",
       "13     45\n",
       "15     45\n",
       "4      34\n",
       "6      33\n",
       "11     27\n",
       "7      23\n",
       "Name: availability_30, dtype: int64"
      ]
     },
     "execution_count": 79,
     "metadata": {},
     "output_type": "execute_result"
    }
   ],
   "source": [
    "listings['availability_30'].value_counts()"
   ]
  },
  {
   "cell_type": "code",
   "execution_count": 80,
   "metadata": {},
   "outputs": [
    {
     "data": {
      "text/plain": [
       "0    41\n",
       "1    13\n",
       "2     6\n",
       "3     0\n",
       "4    60\n",
       "Name: availability_60, dtype: int64"
      ]
     },
     "execution_count": 80,
     "metadata": {},
     "output_type": "execute_result"
    }
   ],
   "source": [
    "listings['availability_60'].head()"
   ]
  },
  {
   "cell_type": "code",
   "execution_count": 81,
   "metadata": {},
   "outputs": [
    {
     "data": {
      "text/plain": [
       "0    71\n",
       "1    16\n",
       "2    17\n",
       "3     0\n",
       "4    90\n",
       "Name: availability_90, dtype: int64"
      ]
     },
     "execution_count": 81,
     "metadata": {},
     "output_type": "execute_result"
    }
   ],
   "source": [
    "listings['availability_90'].head()"
   ]
  },
  {
   "cell_type": "code",
   "execution_count": 82,
   "metadata": {},
   "outputs": [
    {
     "data": {
      "text/plain": [
       "0    346\n",
       "1    291\n",
       "2    220\n",
       "3    143\n",
       "4    365\n",
       "Name: availability_365, dtype: int64"
      ]
     },
     "execution_count": 82,
     "metadata": {},
     "output_type": "execute_result"
    }
   ],
   "source": [
    "listings['availability_365'].head()"
   ]
  },
  {
   "cell_type": "markdown",
   "metadata": {},
   "source": [
    "The above four columns state how many days the listing was available in the previous 30/60/90/365 days."
   ]
  },
  {
   "cell_type": "code",
   "execution_count": 83,
   "metadata": {},
   "outputs": [
    {
     "data": {
      "text/plain": [
       "2016-01-04    3818\n",
       "Name: calendar_last_scraped, dtype: int64"
      ]
     },
     "execution_count": 83,
     "metadata": {},
     "output_type": "execute_result"
    }
   ],
   "source": [
    "listings['calendar_last_scraped'].value_counts()"
   ]
  },
  {
   "cell_type": "markdown",
   "metadata": {},
   "source": [
    "This column lists the identical value 3818 times. It should be deleted."
   ]
  },
  {
   "cell_type": "code",
   "execution_count": 84,
   "metadata": {},
   "outputs": [
    {
     "data": {
      "text/plain": [
       "0    207\n",
       "1     43\n",
       "2     20\n",
       "3      0\n",
       "4     38\n",
       "Name: number_of_reviews, dtype: int64"
      ]
     },
     "execution_count": 84,
     "metadata": {},
     "output_type": "execute_result"
    }
   ],
   "source": [
    "listings['number_of_reviews'].head()"
   ]
  },
  {
   "cell_type": "code",
   "execution_count": 85,
   "metadata": {},
   "outputs": [
    {
     "data": {
      "text/plain": [
       "0    2011-11-01\n",
       "1    2013-08-19\n",
       "2    2014-07-30\n",
       "3           NaN\n",
       "4    2012-07-10\n",
       "Name: first_review, dtype: object"
      ]
     },
     "execution_count": 85,
     "metadata": {},
     "output_type": "execute_result"
    }
   ],
   "source": [
    "listings['first_review'].head()"
   ]
  },
  {
   "cell_type": "code",
   "execution_count": 86,
   "metadata": {},
   "outputs": [
    {
     "data": {
      "text/plain": [
       "0    2016-01-02\n",
       "1    2015-12-29\n",
       "2    2015-09-03\n",
       "3           NaN\n",
       "4    2015-10-24\n",
       "Name: last_review, dtype: object"
      ]
     },
     "execution_count": 86,
     "metadata": {},
     "output_type": "execute_result"
    }
   ],
   "source": [
    "listings['last_review'].head()"
   ]
  },
  {
   "cell_type": "markdown",
   "metadata": {},
   "source": [
    "The two columns above should be of datetime, not string datatype."
   ]
  },
  {
   "cell_type": "code",
   "execution_count": 87,
   "metadata": {},
   "outputs": [
    {
     "data": {
      "text/plain": [
       "100.0    781\n",
       "98.0     292\n",
       "96.0     278\n",
       "97.0     266\n",
       "95.0     260\n",
       "94.0     198\n",
       "93.0     184\n",
       "99.0     146\n",
       "90.0     138\n",
       "80.0     111\n",
       "92.0     105\n",
       "91.0      97\n",
       "87.0      55\n",
       "89.0      53\n",
       "88.0      47\n",
       "85.0      24\n",
       "84.0      23\n",
       "86.0      17\n",
       "83.0      13\n",
       "60.0      12\n",
       "82.0      10\n",
       "70.0       8\n",
       "73.0       7\n",
       "76.0       5\n",
       "72.0       4\n",
       "78.0       4\n",
       "77.0       4\n",
       "40.0       4\n",
       "75.0       3\n",
       "71.0       3\n",
       "81.0       3\n",
       "68.0       2\n",
       "74.0       2\n",
       "67.0       2\n",
       "79.0       2\n",
       "66.0       2\n",
       "64.0       1\n",
       "20.0       1\n",
       "53.0       1\n",
       "65.0       1\n",
       "55.0       1\n",
       "57.0       1\n",
       "Name: review_scores_rating, dtype: int64"
      ]
     },
     "execution_count": 87,
     "metadata": {},
     "output_type": "execute_result"
    }
   ],
   "source": [
    "listings['review_scores_rating'].value_counts()"
   ]
  },
  {
   "cell_type": "code",
   "execution_count": 88,
   "metadata": {},
   "outputs": [
    {
     "data": {
      "text/plain": [
       "10.0    2261\n",
       "9.0      730\n",
       "8.0      129\n",
       "6.0       19\n",
       "7.0       15\n",
       "4.0        4\n",
       "2.0        2\n",
       "Name: review_scores_accuracy, dtype: int64"
      ]
     },
     "execution_count": 88,
     "metadata": {},
     "output_type": "execute_result"
    }
   ],
   "source": [
    "listings['review_scores_accuracy'].value_counts()"
   ]
  },
  {
   "cell_type": "code",
   "execution_count": 89,
   "metadata": {},
   "outputs": [
    {
     "data": {
      "text/plain": [
       "10.0    2161\n",
       "9.0      740\n",
       "8.0      184\n",
       "7.0       40\n",
       "6.0       30\n",
       "5.0        5\n",
       "4.0        4\n",
       "3.0        1\n",
       "Name: review_scores_cleanliness, dtype: int64"
      ]
     },
     "execution_count": 89,
     "metadata": {},
     "output_type": "execute_result"
    }
   ],
   "source": [
    "listings['review_scores_cleanliness'].value_counts()"
   ]
  },
  {
   "cell_type": "code",
   "execution_count": 90,
   "metadata": {},
   "outputs": [
    {
     "data": {
      "text/plain": [
       "10.0    2644\n",
       "9.0      423\n",
       "8.0       64\n",
       "7.0       12\n",
       "6.0        9\n",
       "4.0        5\n",
       "2.0        2\n",
       "5.0        1\n",
       "Name: review_scores_checkin, dtype: int64"
      ]
     },
     "execution_count": 90,
     "metadata": {},
     "output_type": "execute_result"
    }
   ],
   "source": [
    "listings['review_scores_checkin'].value_counts()"
   ]
  },
  {
   "cell_type": "code",
   "execution_count": 91,
   "metadata": {},
   "outputs": [
    {
     "data": {
      "text/plain": [
       "10.0    2700\n",
       "9.0      388\n",
       "8.0       56\n",
       "7.0        8\n",
       "6.0        8\n",
       "2.0        3\n",
       "4.0        3\n",
       "5.0        1\n",
       "Name: review_scores_communication, dtype: int64"
      ]
     },
     "execution_count": 91,
     "metadata": {},
     "output_type": "execute_result"
    }
   ],
   "source": [
    "listings['review_scores_communication'].value_counts()"
   ]
  },
  {
   "cell_type": "code",
   "execution_count": 92,
   "metadata": {},
   "outputs": [
    {
     "data": {
      "text/plain": [
       "10.0    2122\n",
       "9.0      884\n",
       "8.0      129\n",
       "7.0       19\n",
       "6.0        8\n",
       "4.0        1\n",
       "Name: review_scores_location, dtype: int64"
      ]
     },
     "execution_count": 92,
     "metadata": {},
     "output_type": "execute_result"
    }
   ],
   "source": [
    "listings['review_scores_location'].value_counts()"
   ]
  },
  {
   "cell_type": "code",
   "execution_count": 93,
   "metadata": {},
   "outputs": [
    {
     "data": {
      "text/plain": [
       "10.0    1775\n",
       "9.0     1137\n",
       "8.0      190\n",
       "7.0       38\n",
       "6.0       16\n",
       "4.0        4\n",
       "5.0        1\n",
       "2.0        1\n",
       "Name: review_scores_value, dtype: int64"
      ]
     },
     "execution_count": 93,
     "metadata": {},
     "output_type": "execute_result"
    }
   ],
   "source": [
    "listings['review_scores_value'].value_counts()"
   ]
  },
  {
   "cell_type": "markdown",
   "metadata": {},
   "source": [
    "The review_scores columns have too many missing values. I will impute the mean value."
   ]
  },
  {
   "cell_type": "code",
   "execution_count": 94,
   "metadata": {},
   "outputs": [
    {
     "data": {
      "text/plain": [
       "f    3818\n",
       "Name: requires_license, dtype: int64"
      ]
     },
     "execution_count": 94,
     "metadata": {},
     "output_type": "execute_result"
    }
   ],
   "source": [
    "listings['requires_license'].value_counts()"
   ]
  },
  {
   "cell_type": "markdown",
   "metadata": {},
   "source": [
    "This column apparently only contains the value \"f\", meaning false. It is useless and will be deleted."
   ]
  },
  {
   "cell_type": "code",
   "execution_count": 95,
   "metadata": {},
   "outputs": [
    {
     "data": {
      "text/plain": [
       "WASHINGTON    3818\n",
       "Name: jurisdiction_names, dtype: int64"
      ]
     },
     "execution_count": 95,
     "metadata": {},
     "output_type": "execute_result"
    }
   ],
   "source": [
    "listings['jurisdiction_names'].value_counts()"
   ]
  },
  {
   "cell_type": "markdown",
   "metadata": {},
   "source": [
    "The jurisdiction_names column lists WASHINGTON for all its values. It should be removed."
   ]
  },
  {
   "cell_type": "code",
   "execution_count": 96,
   "metadata": {},
   "outputs": [
    {
     "data": {
      "text/plain": [
       "f    3227\n",
       "t     591\n",
       "Name: instant_bookable, dtype: int64"
      ]
     },
     "execution_count": 96,
     "metadata": {},
     "output_type": "execute_result"
    }
   ],
   "source": [
    "listings['instant_bookable'].value_counts()"
   ]
  },
  {
   "cell_type": "markdown",
   "metadata": {},
   "source": [
    "Should be Boolean, not string type."
   ]
  },
  {
   "cell_type": "code",
   "execution_count": 97,
   "metadata": {},
   "outputs": [
    {
     "data": {
      "text/plain": [
       "strict      1417\n",
       "moderate    1251\n",
       "flexible    1150\n",
       "Name: cancellation_policy, dtype: int64"
      ]
     },
     "execution_count": 97,
     "metadata": {},
     "output_type": "execute_result"
    }
   ],
   "source": [
    "listings['cancellation_policy'].value_counts()"
   ]
  },
  {
   "cell_type": "code",
   "execution_count": 98,
   "metadata": {},
   "outputs": [
    {
     "data": {
      "text/plain": [
       "f    3497\n",
       "t     321\n",
       "Name: require_guest_profile_picture, dtype: int64"
      ]
     },
     "execution_count": 98,
     "metadata": {},
     "output_type": "execute_result"
    }
   ],
   "source": [
    "listings['require_guest_profile_picture'].value_counts()"
   ]
  },
  {
   "cell_type": "markdown",
   "metadata": {},
   "source": [
    "Again, should be boolean, not string."
   ]
  },
  {
   "cell_type": "code",
   "execution_count": 99,
   "metadata": {},
   "outputs": [
    {
     "data": {
      "text/plain": [
       "f    3443\n",
       "t     375\n",
       "Name: require_guest_phone_verification, dtype: int64"
      ]
     },
     "execution_count": 99,
     "metadata": {},
     "output_type": "execute_result"
    }
   ],
   "source": [
    "listings['require_guest_phone_verification'].value_counts()"
   ]
  },
  {
   "cell_type": "markdown",
   "metadata": {},
   "source": [
    "Also, boolean is needed instead of string."
   ]
  },
  {
   "cell_type": "code",
   "execution_count": 100,
   "metadata": {},
   "outputs": [
    {
     "data": {
      "text/plain": [
       "1     2451\n",
       "2      575\n",
       "3      262\n",
       "4      130\n",
       "5       70\n",
       "6       65\n",
       "37      37\n",
       "31      36\n",
       "34      34\n",
       "11      22\n",
       "21      21\n",
       "7       21\n",
       "9       19\n",
       "8       19\n",
       "18      18\n",
       "15      16\n",
       "12      12\n",
       "10      10\n",
       "Name: calculated_host_listings_count, dtype: int64"
      ]
     },
     "execution_count": 100,
     "metadata": {},
     "output_type": "execute_result"
    }
   ],
   "source": [
    "listings['calculated_host_listings_count'].value_counts()"
   ]
  },
  {
   "cell_type": "code",
   "execution_count": 101,
   "metadata": {},
   "outputs": [
    {
     "data": {
      "text/plain": [
       "1.00     70\n",
       "2.00     45\n",
       "0.23     24\n",
       "0.81     21\n",
       "0.16     21\n",
       "0.36     21\n",
       "0.26     20\n",
       "0.53     19\n",
       "0.71     18\n",
       "0.30     18\n",
       "0.37     18\n",
       "0.32     17\n",
       "0.86     17\n",
       "0.28     16\n",
       "1.06     16\n",
       "0.31     16\n",
       "0.24     16\n",
       "0.65     16\n",
       "3.00     16\n",
       "0.45     16\n",
       "0.41     16\n",
       "0.63     15\n",
       "0.92     15\n",
       "1.14     15\n",
       "0.90     15\n",
       "0.29     15\n",
       "0.67     15\n",
       "0.25     15\n",
       "0.22     15\n",
       "0.64     15\n",
       "         ..\n",
       "8.01      1\n",
       "5.96      1\n",
       "8.95      1\n",
       "6.73      1\n",
       "8.38      1\n",
       "7.02      1\n",
       "4.16      1\n",
       "5.61      1\n",
       "9.63      1\n",
       "4.73      1\n",
       "3.42      1\n",
       "2.97      1\n",
       "4.06      1\n",
       "4.39      1\n",
       "5.11      1\n",
       "7.18      1\n",
       "1.70      1\n",
       "6.35      1\n",
       "6.87      1\n",
       "10.27     1\n",
       "7.01      1\n",
       "9.08      1\n",
       "5.64      1\n",
       "4.54      1\n",
       "4.88      1\n",
       "8.18      1\n",
       "4.72      1\n",
       "7.53      1\n",
       "3.71      1\n",
       "6.14      1\n",
       "Name: reviews_per_month, Length: 654, dtype: int64"
      ]
     },
     "execution_count": 101,
     "metadata": {},
     "output_type": "execute_result"
    }
   ],
   "source": [
    "listings['reviews_per_month'].value_counts()"
   ]
  },
  {
   "cell_type": "markdown",
   "metadata": {},
   "source": [
    "Seems like a good column."
   ]
  },
  {
   "cell_type": "markdown",
   "metadata": {},
   "source": [
    "# Data preparation"
   ]
  },
  {
   "cell_type": "markdown",
   "metadata": {},
   "source": [
    "In the data preparation part, I will proceed to make the corrections I have outlined above. This will result in getting a final, cleaned dataset."
   ]
  },
  {
   "cell_type": "code",
   "execution_count": 102,
   "metadata": {},
   "outputs": [],
   "source": [
    "listings.drop(['listing_url', 'scrape_id', 'last_scraped', 'space', 'description', 'experiences_offered', 'notes', 'transit',\n",
    "              'thumbnail_url', 'medium_url', 'picture_url', 'xl_picture_url', 'host_url', 'host_name', 'host_about',\n",
    "              'host_acceptance_rate', 'host_thumbnail_url', 'host_picture_url', 'host_total_listings_count',\n",
    "              'neighbourhood', 'city', 'state', 'market', 'smart_location', 'country_code', 'country', 'has_availability',\n",
    "              'calendar_last_scraped', 'requires_license', 'jurisdiction_names', 'square_feet', 'license'], axis=1, inplace=True)"
   ]
  },
  {
   "cell_type": "code",
   "execution_count": 103,
   "metadata": {},
   "outputs": [
    {
     "name": "stdout",
     "output_type": "stream",
     "text": [
      "<class 'pandas.core.frame.DataFrame'>\n",
      "RangeIndex: 3818 entries, 0 to 3817\n",
      "Data columns (total 60 columns):\n",
      "id                                  3818 non-null int64\n",
      "name                                3818 non-null object\n",
      "summary                             3641 non-null object\n",
      "neighborhood_overview               2786 non-null object\n",
      "host_id                             3818 non-null int64\n",
      "host_since                          3816 non-null object\n",
      "host_location                       3810 non-null object\n",
      "host_response_time                  3295 non-null object\n",
      "host_response_rate                  3295 non-null object\n",
      "host_is_superhost                   3816 non-null object\n",
      "host_neighbourhood                  3518 non-null object\n",
      "host_listings_count                 3816 non-null float64\n",
      "host_verifications                  3818 non-null object\n",
      "host_has_profile_pic                3816 non-null object\n",
      "host_identity_verified              3816 non-null object\n",
      "street                              3818 non-null object\n",
      "neighbourhood_cleansed              3818 non-null object\n",
      "neighbourhood_group_cleansed        3818 non-null object\n",
      "zipcode                             3811 non-null object\n",
      "latitude                            3818 non-null float64\n",
      "longitude                           3818 non-null float64\n",
      "is_location_exact                   3818 non-null object\n",
      "property_type                       3817 non-null object\n",
      "room_type                           3818 non-null object\n",
      "accommodates                        3818 non-null int64\n",
      "bathrooms                           3802 non-null float64\n",
      "bedrooms                            3812 non-null float64\n",
      "beds                                3817 non-null float64\n",
      "bed_type                            3818 non-null object\n",
      "amenities                           3818 non-null object\n",
      "price                               3818 non-null object\n",
      "weekly_price                        2009 non-null object\n",
      "monthly_price                       1517 non-null object\n",
      "security_deposit                    1866 non-null object\n",
      "cleaning_fee                        2788 non-null object\n",
      "guests_included                     3818 non-null int64\n",
      "extra_people                        3818 non-null object\n",
      "minimum_nights                      3818 non-null int64\n",
      "maximum_nights                      3818 non-null int64\n",
      "calendar_updated                    3818 non-null object\n",
      "availability_30                     3818 non-null int64\n",
      "availability_60                     3818 non-null int64\n",
      "availability_90                     3818 non-null int64\n",
      "availability_365                    3818 non-null int64\n",
      "number_of_reviews                   3818 non-null int64\n",
      "first_review                        3191 non-null object\n",
      "last_review                         3191 non-null object\n",
      "review_scores_rating                3171 non-null float64\n",
      "review_scores_accuracy              3160 non-null float64\n",
      "review_scores_cleanliness           3165 non-null float64\n",
      "review_scores_checkin               3160 non-null float64\n",
      "review_scores_communication         3167 non-null float64\n",
      "review_scores_location              3163 non-null float64\n",
      "review_scores_value                 3162 non-null float64\n",
      "instant_bookable                    3818 non-null object\n",
      "cancellation_policy                 3818 non-null object\n",
      "require_guest_profile_picture       3818 non-null object\n",
      "require_guest_phone_verification    3818 non-null object\n",
      "calculated_host_listings_count      3818 non-null int64\n",
      "reviews_per_month                   3191 non-null float64\n",
      "dtypes: float64(14), int64(12), object(34)\n",
      "memory usage: 1.7+ MB\n"
     ]
    }
   ],
   "source": [
    "listings.info()"
   ]
  },
  {
   "cell_type": "markdown",
   "metadata": {},
   "source": [
    "### Changing datatypes\n"
   ]
  },
  {
   "cell_type": "markdown",
   "metadata": {},
   "source": [
    "As explained before, certain datatypes will need to be changed."
   ]
  },
  {
   "cell_type": "code",
   "execution_count": 104,
   "metadata": {},
   "outputs": [],
   "source": [
    "listings['host_id'] = listings['host_id'].astype(str)"
   ]
  },
  {
   "cell_type": "code",
   "execution_count": null,
   "metadata": {},
   "outputs": [],
   "source": []
  },
  {
   "cell_type": "code",
   "execution_count": 105,
   "metadata": {},
   "outputs": [],
   "source": [
    "listings['host_since'] = pd.to_datetime(listings['host_since'])"
   ]
  },
  {
   "cell_type": "code",
   "execution_count": 106,
   "metadata": {},
   "outputs": [],
   "source": [
    "\n",
    "listings['host_response_rate'] = listings['host_response_rate'].str.rstrip('%').astype('float') / 100.0"
   ]
  },
  {
   "cell_type": "markdown",
   "metadata": {},
   "source": [
    "The previous version of the column - with percentages, encoded as strings - is instead coded as a fraction, of float form."
   ]
  },
  {
   "cell_type": "code",
   "execution_count": 107,
   "metadata": {},
   "outputs": [
    {
     "data": {
      "text/plain": [
       "f    3038\n",
       "t     778\n",
       "Name: host_is_superhost, dtype: int64"
      ]
     },
     "execution_count": 107,
     "metadata": {},
     "output_type": "execute_result"
    }
   ],
   "source": [
    "listings['host_is_superhost'].value_counts()"
   ]
  },
  {
   "cell_type": "code",
   "execution_count": 108,
   "metadata": {},
   "outputs": [],
   "source": [
    "\n",
    "listings['host_is_superhost'] = (listings['host_is_superhost'] == 't').astype('bool')   \n",
    "# Converts column from string to boolean."
   ]
  },
  {
   "cell_type": "code",
   "execution_count": null,
   "metadata": {},
   "outputs": [],
   "source": []
  },
  {
   "cell_type": "code",
   "execution_count": 109,
   "metadata": {},
   "outputs": [
    {
     "name": "stdout",
     "output_type": "stream",
     "text": [
      "<class 'pandas.core.frame.DataFrame'>\n",
      "RangeIndex: 3818 entries, 0 to 3817\n",
      "Data columns (total 60 columns):\n",
      "id                                  3818 non-null int64\n",
      "name                                3818 non-null object\n",
      "summary                             3641 non-null object\n",
      "neighborhood_overview               2786 non-null object\n",
      "host_id                             3818 non-null object\n",
      "host_since                          3816 non-null datetime64[ns]\n",
      "host_location                       3810 non-null object\n",
      "host_response_time                  3295 non-null object\n",
      "host_response_rate                  3295 non-null float64\n",
      "host_is_superhost                   3818 non-null bool\n",
      "host_neighbourhood                  3518 non-null object\n",
      "host_listings_count                 3816 non-null float64\n",
      "host_verifications                  3818 non-null object\n",
      "host_has_profile_pic                3816 non-null object\n",
      "host_identity_verified              3816 non-null object\n",
      "street                              3818 non-null object\n",
      "neighbourhood_cleansed              3818 non-null object\n",
      "neighbourhood_group_cleansed        3818 non-null object\n",
      "zipcode                             3811 non-null object\n",
      "latitude                            3818 non-null float64\n",
      "longitude                           3818 non-null float64\n",
      "is_location_exact                   3818 non-null object\n",
      "property_type                       3817 non-null object\n",
      "room_type                           3818 non-null object\n",
      "accommodates                        3818 non-null int64\n",
      "bathrooms                           3802 non-null float64\n",
      "bedrooms                            3812 non-null float64\n",
      "beds                                3817 non-null float64\n",
      "bed_type                            3818 non-null object\n",
      "amenities                           3818 non-null object\n",
      "price                               3818 non-null object\n",
      "weekly_price                        2009 non-null object\n",
      "monthly_price                       1517 non-null object\n",
      "security_deposit                    1866 non-null object\n",
      "cleaning_fee                        2788 non-null object\n",
      "guests_included                     3818 non-null int64\n",
      "extra_people                        3818 non-null object\n",
      "minimum_nights                      3818 non-null int64\n",
      "maximum_nights                      3818 non-null int64\n",
      "calendar_updated                    3818 non-null object\n",
      "availability_30                     3818 non-null int64\n",
      "availability_60                     3818 non-null int64\n",
      "availability_90                     3818 non-null int64\n",
      "availability_365                    3818 non-null int64\n",
      "number_of_reviews                   3818 non-null int64\n",
      "first_review                        3191 non-null object\n",
      "last_review                         3191 non-null object\n",
      "review_scores_rating                3171 non-null float64\n",
      "review_scores_accuracy              3160 non-null float64\n",
      "review_scores_cleanliness           3165 non-null float64\n",
      "review_scores_checkin               3160 non-null float64\n",
      "review_scores_communication         3167 non-null float64\n",
      "review_scores_location              3163 non-null float64\n",
      "review_scores_value                 3162 non-null float64\n",
      "instant_bookable                    3818 non-null object\n",
      "cancellation_policy                 3818 non-null object\n",
      "require_guest_profile_picture       3818 non-null object\n",
      "require_guest_phone_verification    3818 non-null object\n",
      "calculated_host_listings_count      3818 non-null int64\n",
      "reviews_per_month                   3191 non-null float64\n",
      "dtypes: bool(1), datetime64[ns](1), float64(15), int64(11), object(32)\n",
      "memory usage: 1.7+ MB\n"
     ]
    }
   ],
   "source": [
    "listings.info()"
   ]
  },
  {
   "cell_type": "code",
   "execution_count": 110,
   "metadata": {},
   "outputs": [
    {
     "data": {
      "text/html": [
       "<div>\n",
       "<style scoped>\n",
       "    .dataframe tbody tr th:only-of-type {\n",
       "        vertical-align: middle;\n",
       "    }\n",
       "\n",
       "    .dataframe tbody tr th {\n",
       "        vertical-align: top;\n",
       "    }\n",
       "\n",
       "    .dataframe thead th {\n",
       "        text-align: right;\n",
       "    }\n",
       "</style>\n",
       "<table border=\"1\" class=\"dataframe\">\n",
       "  <thead>\n",
       "    <tr style=\"text-align: right;\">\n",
       "      <th></th>\n",
       "      <th>id</th>\n",
       "      <th>name</th>\n",
       "      <th>summary</th>\n",
       "      <th>neighborhood_overview</th>\n",
       "      <th>host_id</th>\n",
       "      <th>host_since</th>\n",
       "      <th>host_location</th>\n",
       "      <th>host_response_time</th>\n",
       "      <th>host_response_rate</th>\n",
       "      <th>host_is_superhost</th>\n",
       "      <th>...</th>\n",
       "      <th>review_scores_checkin</th>\n",
       "      <th>review_scores_communication</th>\n",
       "      <th>review_scores_location</th>\n",
       "      <th>review_scores_value</th>\n",
       "      <th>instant_bookable</th>\n",
       "      <th>cancellation_policy</th>\n",
       "      <th>require_guest_profile_picture</th>\n",
       "      <th>require_guest_phone_verification</th>\n",
       "      <th>calculated_host_listings_count</th>\n",
       "      <th>reviews_per_month</th>\n",
       "    </tr>\n",
       "  </thead>\n",
       "  <tbody>\n",
       "    <tr>\n",
       "      <th>0</th>\n",
       "      <td>241032</td>\n",
       "      <td>Stylish Queen Anne Apartment</td>\n",
       "      <td>NaN</td>\n",
       "      <td>NaN</td>\n",
       "      <td>956883</td>\n",
       "      <td>2011-08-11</td>\n",
       "      <td>Seattle, Washington, United States</td>\n",
       "      <td>within a few hours</td>\n",
       "      <td>0.96</td>\n",
       "      <td>False</td>\n",
       "      <td>...</td>\n",
       "      <td>10.0</td>\n",
       "      <td>10.0</td>\n",
       "      <td>9.0</td>\n",
       "      <td>10.0</td>\n",
       "      <td>f</td>\n",
       "      <td>moderate</td>\n",
       "      <td>f</td>\n",
       "      <td>f</td>\n",
       "      <td>2</td>\n",
       "      <td>4.07</td>\n",
       "    </tr>\n",
       "    <tr>\n",
       "      <th>1</th>\n",
       "      <td>953595</td>\n",
       "      <td>Bright &amp; Airy Queen Anne Apartment</td>\n",
       "      <td>Chemically sensitive? We've removed the irrita...</td>\n",
       "      <td>Queen Anne is a wonderful, truly functional vi...</td>\n",
       "      <td>5177328</td>\n",
       "      <td>2013-02-21</td>\n",
       "      <td>Seattle, Washington, United States</td>\n",
       "      <td>within an hour</td>\n",
       "      <td>0.98</td>\n",
       "      <td>True</td>\n",
       "      <td>...</td>\n",
       "      <td>10.0</td>\n",
       "      <td>10.0</td>\n",
       "      <td>10.0</td>\n",
       "      <td>10.0</td>\n",
       "      <td>f</td>\n",
       "      <td>strict</td>\n",
       "      <td>t</td>\n",
       "      <td>t</td>\n",
       "      <td>6</td>\n",
       "      <td>1.48</td>\n",
       "    </tr>\n",
       "    <tr>\n",
       "      <th>2</th>\n",
       "      <td>3308979</td>\n",
       "      <td>New Modern House-Amazing water view</td>\n",
       "      <td>New modern house built in 2013.  Spectacular s...</td>\n",
       "      <td>Upper Queen Anne is a charming neighborhood fu...</td>\n",
       "      <td>16708587</td>\n",
       "      <td>2014-06-12</td>\n",
       "      <td>Seattle, Washington, United States</td>\n",
       "      <td>within a few hours</td>\n",
       "      <td>0.67</td>\n",
       "      <td>False</td>\n",
       "      <td>...</td>\n",
       "      <td>10.0</td>\n",
       "      <td>10.0</td>\n",
       "      <td>10.0</td>\n",
       "      <td>10.0</td>\n",
       "      <td>f</td>\n",
       "      <td>strict</td>\n",
       "      <td>f</td>\n",
       "      <td>f</td>\n",
       "      <td>2</td>\n",
       "      <td>1.15</td>\n",
       "    </tr>\n",
       "    <tr>\n",
       "      <th>3</th>\n",
       "      <td>7421966</td>\n",
       "      <td>Queen Anne Chateau</td>\n",
       "      <td>A charming apartment that sits atop Queen Anne...</td>\n",
       "      <td>NaN</td>\n",
       "      <td>9851441</td>\n",
       "      <td>2013-11-06</td>\n",
       "      <td>Seattle, Washington, United States</td>\n",
       "      <td>NaN</td>\n",
       "      <td>NaN</td>\n",
       "      <td>False</td>\n",
       "      <td>...</td>\n",
       "      <td>NaN</td>\n",
       "      <td>NaN</td>\n",
       "      <td>NaN</td>\n",
       "      <td>NaN</td>\n",
       "      <td>f</td>\n",
       "      <td>flexible</td>\n",
       "      <td>f</td>\n",
       "      <td>f</td>\n",
       "      <td>1</td>\n",
       "      <td>NaN</td>\n",
       "    </tr>\n",
       "    <tr>\n",
       "      <th>4</th>\n",
       "      <td>278830</td>\n",
       "      <td>Charming craftsman 3 bdm house</td>\n",
       "      <td>Cozy family craftman house in beautiful neighb...</td>\n",
       "      <td>We are in the beautiful neighborhood of Queen ...</td>\n",
       "      <td>1452570</td>\n",
       "      <td>2011-11-29</td>\n",
       "      <td>Seattle, Washington, United States</td>\n",
       "      <td>within an hour</td>\n",
       "      <td>1.00</td>\n",
       "      <td>False</td>\n",
       "      <td>...</td>\n",
       "      <td>10.0</td>\n",
       "      <td>10.0</td>\n",
       "      <td>9.0</td>\n",
       "      <td>9.0</td>\n",
       "      <td>f</td>\n",
       "      <td>strict</td>\n",
       "      <td>f</td>\n",
       "      <td>f</td>\n",
       "      <td>1</td>\n",
       "      <td>0.89</td>\n",
       "    </tr>\n",
       "  </tbody>\n",
       "</table>\n",
       "<p>5 rows × 60 columns</p>\n",
       "</div>"
      ],
      "text/plain": [
       "        id                                 name  \\\n",
       "0   241032         Stylish Queen Anne Apartment   \n",
       "1   953595   Bright & Airy Queen Anne Apartment   \n",
       "2  3308979  New Modern House-Amazing water view   \n",
       "3  7421966                   Queen Anne Chateau   \n",
       "4   278830       Charming craftsman 3 bdm house   \n",
       "\n",
       "                                             summary  \\\n",
       "0                                                NaN   \n",
       "1  Chemically sensitive? We've removed the irrita...   \n",
       "2  New modern house built in 2013.  Spectacular s...   \n",
       "3  A charming apartment that sits atop Queen Anne...   \n",
       "4  Cozy family craftman house in beautiful neighb...   \n",
       "\n",
       "                               neighborhood_overview   host_id host_since  \\\n",
       "0                                                NaN    956883 2011-08-11   \n",
       "1  Queen Anne is a wonderful, truly functional vi...   5177328 2013-02-21   \n",
       "2  Upper Queen Anne is a charming neighborhood fu...  16708587 2014-06-12   \n",
       "3                                                NaN   9851441 2013-11-06   \n",
       "4  We are in the beautiful neighborhood of Queen ...   1452570 2011-11-29   \n",
       "\n",
       "                        host_location  host_response_time  host_response_rate  \\\n",
       "0  Seattle, Washington, United States  within a few hours                0.96   \n",
       "1  Seattle, Washington, United States      within an hour                0.98   \n",
       "2  Seattle, Washington, United States  within a few hours                0.67   \n",
       "3  Seattle, Washington, United States                 NaN                 NaN   \n",
       "4  Seattle, Washington, United States      within an hour                1.00   \n",
       "\n",
       "   host_is_superhost        ...         review_scores_checkin  \\\n",
       "0              False        ...                          10.0   \n",
       "1               True        ...                          10.0   \n",
       "2              False        ...                          10.0   \n",
       "3              False        ...                           NaN   \n",
       "4              False        ...                          10.0   \n",
       "\n",
       "   review_scores_communication review_scores_location review_scores_value  \\\n",
       "0                         10.0                    9.0                10.0   \n",
       "1                         10.0                   10.0                10.0   \n",
       "2                         10.0                   10.0                10.0   \n",
       "3                          NaN                    NaN                 NaN   \n",
       "4                         10.0                    9.0                 9.0   \n",
       "\n",
       "  instant_bookable cancellation_policy require_guest_profile_picture  \\\n",
       "0                f            moderate                             f   \n",
       "1                f              strict                             t   \n",
       "2                f              strict                             f   \n",
       "3                f            flexible                             f   \n",
       "4                f              strict                             f   \n",
       "\n",
       "  require_guest_phone_verification calculated_host_listings_count  \\\n",
       "0                                f                              2   \n",
       "1                                t                              6   \n",
       "2                                f                              2   \n",
       "3                                f                              1   \n",
       "4                                f                              1   \n",
       "\n",
       "   reviews_per_month  \n",
       "0               4.07  \n",
       "1               1.48  \n",
       "2               1.15  \n",
       "3                NaN  \n",
       "4               0.89  \n",
       "\n",
       "[5 rows x 60 columns]"
      ]
     },
     "execution_count": 110,
     "metadata": {},
     "output_type": "execute_result"
    }
   ],
   "source": [
    "listings.head()"
   ]
  },
  {
   "cell_type": "code",
   "execution_count": null,
   "metadata": {},
   "outputs": [],
   "source": []
  },
  {
   "cell_type": "code",
   "execution_count": 111,
   "metadata": {},
   "outputs": [],
   "source": [
    "listings = listings.dropna(subset=['host_listings_count'])\n",
    "# 2 Rows with missing values are removed."
   ]
  },
  {
   "cell_type": "code",
   "execution_count": 112,
   "metadata": {
    "scrolled": true
   },
   "outputs": [],
   "source": [
    "listings['host_listings_count'] = listings['host_listings_count'].astype(np.int64)"
   ]
  },
  {
   "cell_type": "code",
   "execution_count": null,
   "metadata": {},
   "outputs": [],
   "source": []
  },
  {
   "cell_type": "code",
   "execution_count": 113,
   "metadata": {},
   "outputs": [
    {
     "data": {
      "text/plain": [
       "t    2997\n",
       "f     819\n",
       "Name: host_identity_verified, dtype: int64"
      ]
     },
     "execution_count": 113,
     "metadata": {},
     "output_type": "execute_result"
    }
   ],
   "source": [
    "listings['host_identity_verified'].value_counts()"
   ]
  },
  {
   "cell_type": "code",
   "execution_count": 114,
   "metadata": {},
   "outputs": [],
   "source": [
    "listings['host_has_profile_pic'] = (listings['host_has_profile_pic'] == 't').astype('bool')   "
   ]
  },
  {
   "cell_type": "code",
   "execution_count": 115,
   "metadata": {},
   "outputs": [],
   "source": [
    "listings['host_identity_verified'] = (listings['host_identity_verified'] == 't').astype('bool')   "
   ]
  },
  {
   "cell_type": "code",
   "execution_count": 116,
   "metadata": {},
   "outputs": [],
   "source": [
    "listings['is_location_exact'] = (listings['is_location_exact'] == 't').astype('bool')   "
   ]
  },
  {
   "cell_type": "code",
   "execution_count": 117,
   "metadata": {},
   "outputs": [],
   "source": [
    "listings = listings.dropna(subset=['bedrooms'])\n"
   ]
  },
  {
   "cell_type": "markdown",
   "metadata": {},
   "source": [
    "Six missing-value rows in bedrooms were dropped in order to make it possible to convert from float to int."
   ]
  },
  {
   "cell_type": "code",
   "execution_count": 118,
   "metadata": {},
   "outputs": [],
   "source": [
    "listings['bedrooms'] = listings['bedrooms'].astype(np.int64)"
   ]
  },
  {
   "cell_type": "code",
   "execution_count": 119,
   "metadata": {},
   "outputs": [],
   "source": [
    "listings = listings.dropna(subset=['beds'])\n"
   ]
  },
  {
   "cell_type": "markdown",
   "metadata": {},
   "source": [
    "The same is done with regard to the beds column."
   ]
  },
  {
   "cell_type": "code",
   "execution_count": 120,
   "metadata": {},
   "outputs": [],
   "source": [
    "listings['beds'] = listings['beds'].astype(np.int64)"
   ]
  },
  {
   "cell_type": "code",
   "execution_count": 121,
   "metadata": {},
   "outputs": [],
   "source": [
    "listings['price'] = listings['price'].str[1:]\n",
    "# Dollar sign is removed from price column."
   ]
  },
  {
   "cell_type": "code",
   "execution_count": 122,
   "metadata": {},
   "outputs": [],
   "source": [
    "listings['price'] = listings['price'].str[:-3]\n",
    "#.00 is removed from price column"
   ]
  },
  {
   "cell_type": "code",
   "execution_count": null,
   "metadata": {
    "scrolled": true
   },
   "outputs": [],
   "source": []
  },
  {
   "cell_type": "code",
   "execution_count": 123,
   "metadata": {},
   "outputs": [],
   "source": [
    "listings['price'] = listings.price.str.replace(',', '')\n",
    "# Make sure to remove commas."
   ]
  },
  {
   "cell_type": "code",
   "execution_count": 124,
   "metadata": {},
   "outputs": [],
   "source": [
    "listings['price'] = listings['price'].astype(np.int64)"
   ]
  },
  {
   "cell_type": "code",
   "execution_count": 125,
   "metadata": {},
   "outputs": [
    {
     "name": "stdout",
     "output_type": "stream",
     "text": [
      "<class 'pandas.core.frame.DataFrame'>\n",
      "Int64Index: 3809 entries, 0 to 3817\n",
      "Data columns (total 60 columns):\n",
      "id                                  3809 non-null int64\n",
      "name                                3809 non-null object\n",
      "summary                             3634 non-null object\n",
      "neighborhood_overview               2783 non-null object\n",
      "host_id                             3809 non-null object\n",
      "host_since                          3809 non-null datetime64[ns]\n",
      "host_location                       3803 non-null object\n",
      "host_response_time                  3288 non-null object\n",
      "host_response_rate                  3288 non-null float64\n",
      "host_is_superhost                   3809 non-null bool\n",
      "host_neighbourhood                  3511 non-null object\n",
      "host_listings_count                 3809 non-null int64\n",
      "host_verifications                  3809 non-null object\n",
      "host_has_profile_pic                3809 non-null bool\n",
      "host_identity_verified              3809 non-null bool\n",
      "street                              3809 non-null object\n",
      "neighbourhood_cleansed              3809 non-null object\n",
      "neighbourhood_group_cleansed        3809 non-null object\n",
      "zipcode                             3802 non-null object\n",
      "latitude                            3809 non-null float64\n",
      "longitude                           3809 non-null float64\n",
      "is_location_exact                   3809 non-null bool\n",
      "property_type                       3808 non-null object\n",
      "room_type                           3809 non-null object\n",
      "accommodates                        3809 non-null int64\n",
      "bathrooms                           3794 non-null float64\n",
      "bedrooms                            3809 non-null int64\n",
      "beds                                3809 non-null int64\n",
      "bed_type                            3809 non-null object\n",
      "amenities                           3809 non-null object\n",
      "price                               3809 non-null int64\n",
      "weekly_price                        2003 non-null object\n",
      "monthly_price                       1514 non-null object\n",
      "security_deposit                    1863 non-null object\n",
      "cleaning_fee                        2783 non-null object\n",
      "guests_included                     3809 non-null int64\n",
      "extra_people                        3809 non-null object\n",
      "minimum_nights                      3809 non-null int64\n",
      "maximum_nights                      3809 non-null int64\n",
      "calendar_updated                    3809 non-null object\n",
      "availability_30                     3809 non-null int64\n",
      "availability_60                     3809 non-null int64\n",
      "availability_90                     3809 non-null int64\n",
      "availability_365                    3809 non-null int64\n",
      "number_of_reviews                   3809 non-null int64\n",
      "first_review                        3185 non-null object\n",
      "last_review                         3185 non-null object\n",
      "review_scores_rating                3165 non-null float64\n",
      "review_scores_accuracy              3154 non-null float64\n",
      "review_scores_cleanliness           3159 non-null float64\n",
      "review_scores_checkin               3154 non-null float64\n",
      "review_scores_communication         3161 non-null float64\n",
      "review_scores_location              3157 non-null float64\n",
      "review_scores_value                 3156 non-null float64\n",
      "instant_bookable                    3809 non-null object\n",
      "cancellation_policy                 3809 non-null object\n",
      "require_guest_profile_picture       3809 non-null object\n",
      "require_guest_phone_verification    3809 non-null object\n",
      "calculated_host_listings_count      3809 non-null int64\n",
      "reviews_per_month                   3185 non-null float64\n",
      "dtypes: bool(4), datetime64[ns](1), float64(12), int64(15), object(28)\n",
      "memory usage: 1.7+ MB\n"
     ]
    }
   ],
   "source": [
    "listings.info()"
   ]
  },
  {
   "cell_type": "code",
   "execution_count": null,
   "metadata": {},
   "outputs": [],
   "source": []
  },
  {
   "cell_type": "code",
   "execution_count": 126,
   "metadata": {},
   "outputs": [],
   "source": [
    "listings['weekly_price'] = listings['weekly_price'].str[1:]\n",
    "listings['weekly_price'] = listings['weekly_price'].str[:-3]"
   ]
  },
  {
   "cell_type": "code",
   "execution_count": 127,
   "metadata": {},
   "outputs": [],
   "source": [
    "listings['weekly_price'] = listings.weekly_price.str.replace(',', '')"
   ]
  },
  {
   "cell_type": "code",
   "execution_count": null,
   "metadata": {},
   "outputs": [],
   "source": []
  },
  {
   "cell_type": "code",
   "execution_count": 128,
   "metadata": {},
   "outputs": [],
   "source": [
    "listings['bedrooms'] = listings['bedrooms'].astype(float)"
   ]
  },
  {
   "cell_type": "code",
   "execution_count": 129,
   "metadata": {},
   "outputs": [],
   "source": [
    "listings['extra_people'] = listings['extra_people'].str[1:]\n",
    "listings['extra_people'] = listings['extra_people'].str[:-3]"
   ]
  },
  {
   "cell_type": "code",
   "execution_count": 130,
   "metadata": {},
   "outputs": [],
   "source": [
    "listings['extra_people'] = listings.extra_people.str.replace(',', '')"
   ]
  },
  {
   "cell_type": "code",
   "execution_count": 131,
   "metadata": {},
   "outputs": [],
   "source": [
    "listings['extra_people'] = listings['extra_people'].astype(np.int64)"
   ]
  },
  {
   "cell_type": "code",
   "execution_count": 132,
   "metadata": {},
   "outputs": [],
   "source": [
    "listings['first_review'] = pd.to_datetime(listings['first_review'], errors='coerce')"
   ]
  },
  {
   "cell_type": "code",
   "execution_count": 133,
   "metadata": {},
   "outputs": [],
   "source": [
    "listings['last_review'] = pd.to_datetime(listings['last_review'], errors='coerce')"
   ]
  },
  {
   "cell_type": "markdown",
   "metadata": {},
   "source": [
    "The first/last review columns have been changed from string to datetime, with NaNs being ignored."
   ]
  },
  {
   "cell_type": "markdown",
   "metadata": {},
   "source": []
  },
  {
   "cell_type": "code",
   "execution_count": 134,
   "metadata": {},
   "outputs": [],
   "source": [
    "listings['instant_bookable'] = (listings['instant_bookable'] == 't').astype('bool')   "
   ]
  },
  {
   "cell_type": "code",
   "execution_count": 135,
   "metadata": {},
   "outputs": [],
   "source": [
    "listings['require_guest_profile_picture'] = (listings['require_guest_profile_picture'] == 't').astype('bool')   "
   ]
  },
  {
   "cell_type": "code",
   "execution_count": 136,
   "metadata": {},
   "outputs": [],
   "source": [
    "listings['require_guest_phone_verification'] = (listings['require_guest_phone_verification'] == 't').astype('bool')   "
   ]
  },
  {
   "cell_type": "code",
   "execution_count": 137,
   "metadata": {},
   "outputs": [
    {
     "data": {
      "text/plain": [
       "0         4 weeks ago\n",
       "1               today\n",
       "2         5 weeks ago\n",
       "3        6 months ago\n",
       "4         7 weeks ago\n",
       "5         2 weeks ago\n",
       "6         5 weeks ago\n",
       "7           yesterday\n",
       "8        5 months ago\n",
       "9               today\n",
       "10         a week ago\n",
       "11         a week ago\n",
       "12        2 weeks ago\n",
       "13              today\n",
       "14         5 days ago\n",
       "15         3 days ago\n",
       "16          yesterday\n",
       "17        2 weeks ago\n",
       "18       5 months ago\n",
       "19       2 months ago\n",
       "20        4 weeks ago\n",
       "21       2 months ago\n",
       "22       2 months ago\n",
       "23              today\n",
       "24       3 months ago\n",
       "25              today\n",
       "26         3 days ago\n",
       "27          yesterday\n",
       "28         4 days ago\n",
       "29         5 days ago\n",
       "            ...      \n",
       "3788      2 weeks ago\n",
       "3789            today\n",
       "3790            today\n",
       "3791       4 days ago\n",
       "3792       5 days ago\n",
       "3793            today\n",
       "3794     2 months ago\n",
       "3795     3 months ago\n",
       "3796        yesterday\n",
       "3797        yesterday\n",
       "3798       a week ago\n",
       "3799      2 weeks ago\n",
       "3800    10 months ago\n",
       "3801       a week ago\n",
       "3802     3 months ago\n",
       "3803            today\n",
       "3804      3 weeks ago\n",
       "3805            today\n",
       "3806     3 months ago\n",
       "3807       4 days ago\n",
       "3808            today\n",
       "3809     5 months ago\n",
       "3810       4 days ago\n",
       "3811       a week ago\n",
       "3812        yesterday\n",
       "3813            today\n",
       "3814       2 days ago\n",
       "3815       4 days ago\n",
       "3816            never\n",
       "3817       a week ago\n",
       "Name: calendar_updated, Length: 3809, dtype: object"
      ]
     },
     "execution_count": 137,
     "metadata": {},
     "output_type": "execute_result"
    }
   ],
   "source": [
    "listings['calendar_updated']"
   ]
  },
  {
   "cell_type": "code",
   "execution_count": 138,
   "metadata": {},
   "outputs": [],
   "source": [
    "listings[['review_scores_rating', 'review_scores_accuracy', 'review_scores_cleanliness', 'review_scores_checkin',\n",
    "         'review_scores_communication', 'review_scores_location', 'review_scores_value']] = listings[['review_scores_rating',                                                                                             \n",
    "        'review_scores_accuracy', 'review_scores_cleanliness', 'review_scores_checkin', 'review_scores_communication', 'review_scores_location', 'review_scores_value']].fillna(listings.mean())\n"
   ]
  },
  {
   "cell_type": "code",
   "execution_count": 139,
   "metadata": {},
   "outputs": [
    {
     "data": {
      "text/plain": [
       "100.000000    778\n",
       "94.536177     644\n",
       "98.000000     292\n",
       "96.000000     278\n",
       "97.000000     266\n",
       "95.000000     260\n",
       "94.000000     196\n",
       "93.000000     184\n",
       "99.000000     146\n",
       "90.000000     138\n",
       "80.000000     111\n",
       "92.000000     105\n",
       "91.000000      97\n",
       "87.000000      55\n",
       "89.000000      52\n",
       "88.000000      47\n",
       "85.000000      24\n",
       "84.000000      23\n",
       "86.000000      17\n",
       "83.000000      13\n",
       "60.000000      12\n",
       "82.000000      10\n",
       "70.000000       8\n",
       "73.000000       7\n",
       "76.000000       5\n",
       "78.000000       4\n",
       "77.000000       4\n",
       "40.000000       4\n",
       "72.000000       4\n",
       "81.000000       3\n",
       "75.000000       3\n",
       "71.000000       3\n",
       "74.000000       2\n",
       "68.000000       2\n",
       "67.000000       2\n",
       "79.000000       2\n",
       "66.000000       2\n",
       "64.000000       1\n",
       "20.000000       1\n",
       "53.000000       1\n",
       "65.000000       1\n",
       "55.000000       1\n",
       "57.000000       1\n",
       "Name: review_scores_rating, dtype: int64"
      ]
     },
     "execution_count": 139,
     "metadata": {},
     "output_type": "execute_result"
    }
   ],
   "source": [
    "listings['review_scores_rating'].value_counts()"
   ]
  },
  {
   "cell_type": "code",
   "execution_count": null,
   "metadata": {},
   "outputs": [],
   "source": []
  },
  {
   "cell_type": "markdown",
   "metadata": {},
   "source": [
    "# Questions\n",
    "\n",
    "1. What factors are in general correlated with price?\n",
    "\n",
    "2. Can review scores be used to predict price?\n",
    "\n",
    "3. Can the number of bedrooms or bathrooms be used to predict price?"
   ]
  },
  {
   "cell_type": "code",
   "execution_count": 140,
   "metadata": {},
   "outputs": [
    {
     "data": {
      "text/plain": [
       "neighbourhood_group_cleansed\n",
       "Delridge                83.278481\n",
       "Northgate               88.550000\n",
       "Rainier Valley          91.899371\n",
       "Lake City               92.671642\n",
       "University District     93.639344\n",
       "Beacon Hill             94.669492\n",
       "Seward Park            108.477273\n",
       "Interbay               109.727273\n",
       "Other neighborhoods    119.766709\n",
       "Ballard                124.682609\n",
       "Central Area           128.338753\n",
       "Capitol Hill           130.746903\n",
       "Cascade                140.101124\n",
       "West Seattle           141.589109\n",
       "Downtown               154.426667\n",
       "Queen Anne             157.223729\n",
       "Magnolia               177.672131\n",
       "Name: price, dtype: float64"
      ]
     },
     "execution_count": 140,
     "metadata": {},
     "output_type": "execute_result"
    }
   ],
   "source": [
    "listings.groupby(['neighbourhood_group_cleansed']).mean()['price'].sort_values()"
   ]
  },
  {
   "cell_type": "markdown",
   "metadata": {},
   "source": [
    "It is clear that certain areas, like Magnolia, are much more expensive than others on average."
   ]
  },
  {
   "cell_type": "code",
   "execution_count": 141,
   "metadata": {},
   "outputs": [
    {
     "data": {
      "text/plain": [
       "bedrooms\n",
       "0.0    103.560647\n",
       "1.0     95.566046\n",
       "2.0    174.062500\n",
       "3.0    249.530035\n",
       "4.0    313.695652\n",
       "5.0    441.000000\n",
       "6.0    578.166667\n",
       "7.0    375.000000\n",
       "Name: price, dtype: float64"
      ]
     },
     "execution_count": 141,
     "metadata": {},
     "output_type": "execute_result"
    }
   ],
   "source": [
    "listings.groupby(['bedrooms']).mean()['price']"
   ]
  },
  {
   "cell_type": "markdown",
   "metadata": {},
   "source": [
    "Overall, more bedrooms mean a larger price. It seems like the seven-bedroom home for $375 is an outlier."
   ]
  },
  {
   "cell_type": "code",
   "execution_count": 142,
   "metadata": {},
   "outputs": [
    {
     "data": {
      "text/plain": [
       "1.0    2415\n",
       "2.0     640\n",
       "0.0     371\n",
       "3.0     283\n",
       "4.0      69\n",
       "5.0      24\n",
       "6.0       6\n",
       "7.0       1\n",
       "Name: bedrooms, dtype: int64"
      ]
     },
     "execution_count": 142,
     "metadata": {},
     "output_type": "execute_result"
    }
   ],
   "source": [
    "listings['bedrooms'].value_counts()"
   ]
  },
  {
   "cell_type": "markdown",
   "metadata": {},
   "source": [
    "Sure enough, there is just one home with seven bedrooms to start with. I will remove this outlier."
   ]
  },
  {
   "cell_type": "code",
   "execution_count": 143,
   "metadata": {},
   "outputs": [
    {
     "data": {
      "text/plain": [
       "Int64Index([3351], dtype='int64')"
      ]
     },
     "execution_count": 143,
     "metadata": {},
     "output_type": "execute_result"
    }
   ],
   "source": [
    "listings[listings['bedrooms']== 7].index"
   ]
  },
  {
   "cell_type": "code",
   "execution_count": 144,
   "metadata": {},
   "outputs": [],
   "source": [
    "listings.drop(3351, inplace=True)"
   ]
  },
  {
   "cell_type": "code",
   "execution_count": 145,
   "metadata": {},
   "outputs": [
    {
     "data": {
      "text/plain": [
       "zipcode\n",
       "99\\n98122     67.000000\n",
       "98106         82.103448\n",
       "98108         83.875000\n",
       "98133         86.282609\n",
       "98125         88.577465\n",
       "98118         93.798701\n",
       "98178         94.428571\n",
       "98146         97.800000\n",
       "98177         98.842105\n",
       "98144        105.395000\n",
       "98105        107.111111\n",
       "98117        110.226994\n",
       "98115        112.129213\n",
       "98126        122.730159\n",
       "98103        123.511450\n",
       "98102        127.186391\n",
       "98107        130.238889\n",
       "98122        132.492857\n",
       "98104        135.221053\n",
       "98112        135.801205\n",
       "98136        138.906977\n",
       "98116        145.348214\n",
       "98109        150.247525\n",
       "98121        153.953368\n",
       "98119        166.377622\n",
       "98101        166.728643\n",
       "98199        172.393939\n",
       "98134        206.600000\n",
       "Name: price, dtype: float64"
      ]
     },
     "execution_count": 145,
     "metadata": {},
     "output_type": "execute_result"
    }
   ],
   "source": [
    "listings.groupby(['zipcode']).mean()['price'].sort_values()"
   ]
  },
  {
   "cell_type": "markdown",
   "metadata": {},
   "source": [
    "Zipcodes are also correlated with price. The \"99\\n98122\" zipcode seems like an outlier or a mistake though."
   ]
  },
  {
   "cell_type": "code",
   "execution_count": 146,
   "metadata": {},
   "outputs": [
    {
     "data": {
      "text/plain": [
       "Int64Index([859], dtype='int64')"
      ]
     },
     "execution_count": 146,
     "metadata": {},
     "output_type": "execute_result"
    }
   ],
   "source": [
    "listings[listings['zipcode']=='99\\n98122'].index"
   ]
  },
  {
   "cell_type": "code",
   "execution_count": 147,
   "metadata": {},
   "outputs": [],
   "source": [
    "listings.drop(859, inplace=True)\n",
    "# This row has been removed"
   ]
  },
  {
   "cell_type": "code",
   "execution_count": 148,
   "metadata": {},
   "outputs": [
    {
     "data": {
      "text/plain": [
       "cancellation_policy\n",
       "flexible    109.300785\n",
       "moderate    114.832532\n",
       "strict      154.519830\n",
       "Name: price, dtype: float64"
      ]
     },
     "execution_count": 148,
     "metadata": {},
     "output_type": "execute_result"
    }
   ],
   "source": [
    "listings.groupby(['cancellation_policy']).mean()['price']"
   ]
  },
  {
   "cell_type": "markdown",
   "metadata": {},
   "source": [
    "The stricter a cancellation policy is, the higher the price. This suggests that properties that are highly demanded are both more expensive and harder to cancel."
   ]
  },
  {
   "cell_type": "code",
   "execution_count": 149,
   "metadata": {},
   "outputs": [
    {
     "data": {
      "text/plain": [
       "property_type\n",
       "Dorm                39.500000\n",
       "Tent                54.000000\n",
       "Other               92.904762\n",
       "Chalet              98.500000\n",
       "Yurt               100.000000\n",
       "Treehouse          101.000000\n",
       "Cabin              104.666667\n",
       "Bed & Breakfast    112.054054\n",
       "Bungalow           115.615385\n",
       "Camper/RV          120.461538\n",
       "Apartment          122.896592\n",
       "Townhouse          129.457627\n",
       "House              132.182765\n",
       "Loft               135.700000\n",
       "Condominium        151.109890\n",
       "Boat               282.375000\n",
       "Name: price, dtype: float64"
      ]
     },
     "execution_count": 149,
     "metadata": {},
     "output_type": "execute_result"
    }
   ],
   "source": [
    "listings.groupby(['property_type']).mean()['price'].sort_values()"
   ]
  },
  {
   "cell_type": "markdown",
   "metadata": {},
   "source": [
    "Unsurprisingly, certain properties are more expensive than others. Dorms or tents are dirt cheap, at just 39 or 54 dollars on average. Boats are very expensive going at 282 per night, to a lesser degree condominiums as well. Most other categories are within the range of 100-135."
   ]
  },
  {
   "cell_type": "code",
   "execution_count": 150,
   "metadata": {},
   "outputs": [
    {
     "data": {
      "text/plain": [
       "bed_type\n",
       "Couch             64.307692\n",
       "Futon             72.824324\n",
       "Airbed            73.962963\n",
       "Pull-out Sofa     77.326087\n",
       "Real Bed         130.266520\n",
       "Name: price, dtype: float64"
      ]
     },
     "execution_count": 150,
     "metadata": {},
     "output_type": "execute_result"
    }
   ],
   "source": [
    "listings.groupby(['bed_type']).mean()['price'].sort_values()"
   ]
  },
  {
   "cell_type": "markdown",
   "metadata": {},
   "source": [
    "Properties that include real beds and not couches or sofas are on average almost twice as expensive as others."
   ]
  },
  {
   "cell_type": "code",
   "execution_count": 151,
   "metadata": {},
   "outputs": [
    {
     "data": {
      "text/plain": [
       "room_type\n",
       "Shared room         47.547009\n",
       "Private room        74.874784\n",
       "Entire home/apt    155.842417\n",
       "Name: price, dtype: float64"
      ]
     },
     "execution_count": 151,
     "metadata": {},
     "output_type": "execute_result"
    }
   ],
   "source": [
    "listings.groupby(['room_type']).mean()['price'].sort_values()"
   ]
  },
  {
   "cell_type": "markdown",
   "metadata": {},
   "source": [
    "Unsurprisingly, prices vary wildly depending on whether you have to share the property with someone else, or whether you get an entire apartment/house for yourself."
   ]
  },
  {
   "cell_type": "code",
   "execution_count": 152,
   "metadata": {},
   "outputs": [
    {
     "data": {
      "text/plain": [
       "host_is_superhost\n",
       "False    127.306702\n",
       "True     130.140103\n",
       "Name: price, dtype: float64"
      ]
     },
     "execution_count": 152,
     "metadata": {},
     "output_type": "execute_result"
    }
   ],
   "source": [
    "listings.groupby(['host_is_superhost']).mean()['price']"
   ]
  },
  {
   "cell_type": "markdown",
   "metadata": {},
   "source": [
    "Barely any difference between average price with regard to superhosts."
   ]
  },
  {
   "cell_type": "code",
   "execution_count": 153,
   "metadata": {},
   "outputs": [
    {
     "data": {
      "text/plain": [
       "require_guest_profile_picture\n",
       "False    126.199541\n",
       "True     146.322884\n",
       "Name: price, dtype: float64"
      ]
     },
     "execution_count": 153,
     "metadata": {},
     "output_type": "execute_result"
    }
   ],
   "source": [
    "listings.groupby(['require_guest_profile_picture']).mean()['price']"
   ]
  },
  {
   "cell_type": "code",
   "execution_count": 154,
   "metadata": {},
   "outputs": [
    {
     "data": {
      "text/plain": [
       "require_guest_phone_verification\n",
       "False    126.214036\n",
       "True     143.276139\n",
       "Name: price, dtype: float64"
      ]
     },
     "execution_count": 154,
     "metadata": {},
     "output_type": "execute_result"
    }
   ],
   "source": [
    "listings.groupby(['require_guest_phone_verification']).mean()['price']"
   ]
  },
  {
   "cell_type": "markdown",
   "metadata": {},
   "source": [
    "The difference between average price is not huge, but properties that require profile pictures and phone verification of guests are somewhat more expensive."
   ]
  },
  {
   "cell_type": "code",
   "execution_count": 155,
   "metadata": {},
   "outputs": [
    {
     "data": {
      "text/plain": [
       "instant_bookable\n",
       "False    129.072094\n",
       "True     121.404075\n",
       "Name: price, dtype: float64"
      ]
     },
     "execution_count": 155,
     "metadata": {},
     "output_type": "execute_result"
    }
   ],
   "source": [
    "listings.groupby(['instant_bookable']).mean()['price']"
   ]
  },
  {
   "cell_type": "markdown",
   "metadata": {},
   "source": [
    "# Data Modeling\n",
    "\n",
    "I will now construct two models that will seek to predict price from various factors. The first one will seek to predict price from review scores. The second model will seek to predict price from the number of bedrooms, bathrooms and guests included."
   ]
  },
  {
   "cell_type": "code",
   "execution_count": null,
   "metadata": {},
   "outputs": [],
   "source": []
  },
  {
   "cell_type": "markdown",
   "metadata": {},
   "source": [
    "I will now seek to predict price based on the various review scores."
   ]
  },
  {
   "cell_type": "code",
   "execution_count": 156,
   "metadata": {},
   "outputs": [],
   "source": [
    "X = listings[['review_scores_rating', 'review_scores_accuracy', 'review_scores_cleanliness', 'review_scores_checkin',\n",
    "         'review_scores_communication', 'review_scores_location', 'review_scores_value']]\n",
    "y= listings['price']"
   ]
  },
  {
   "cell_type": "code",
   "execution_count": 157,
   "metadata": {},
   "outputs": [],
   "source": [
    "X_train, X_test, y_train, y_test = train_test_split(X, y, test_size=0.3, random_state=42)       "
   ]
  },
  {
   "cell_type": "code",
   "execution_count": 158,
   "metadata": {},
   "outputs": [
    {
     "data": {
      "text/plain": [
       "LinearRegression(copy_X=True, fit_intercept=True, n_jobs=1, normalize=True)"
      ]
     },
     "execution_count": 158,
     "metadata": {},
     "output_type": "execute_result"
    }
   ],
   "source": [
    "lin_model = LinearRegression(normalize=True)\n",
    "lin_model.fit(X_train, y_train)"
   ]
  },
  {
   "cell_type": "code",
   "execution_count": 159,
   "metadata": {},
   "outputs": [],
   "source": [
    "preds = lin_model.predict(X_test)"
   ]
  },
  {
   "cell_type": "code",
   "execution_count": null,
   "metadata": {},
   "outputs": [],
   "source": []
  },
  {
   "cell_type": "code",
   "execution_count": null,
   "metadata": {},
   "outputs": [],
   "source": []
  },
  {
   "cell_type": "markdown",
   "metadata": {},
   "source": [
    "Surprisingly to me, the r-squared score was essentially equal to zero. This means that the review scores cannot accurately predict price. Maybe some expensive properties get good scores, others get bad ones, and the same for the the cheaper ones."
   ]
  },
  {
   "cell_type": "code",
   "execution_count": 160,
   "metadata": {},
   "outputs": [
    {
     "data": {
      "text/plain": [
       "guests_included\n",
       "0     107.836957\n",
       "1     117.746361\n",
       "2     112.189463\n",
       "3     136.912500\n",
       "4     188.814346\n",
       "5     264.250000\n",
       "6     298.185714\n",
       "7     229.571429\n",
       "8     359.458333\n",
       "9     415.000000\n",
       "10    637.500000\n",
       "11    400.000000\n",
       "12    250.000000\n",
       "13    673.000000\n",
       "15     35.000000\n",
       "Name: price, dtype: float64"
      ]
     },
     "execution_count": 160,
     "metadata": {},
     "output_type": "execute_result"
    }
   ],
   "source": [
    "listings.groupby(['guests_included']).mean()['price']"
   ]
  },
  {
   "cell_type": "markdown",
   "metadata": {},
   "source": [
    "A clear increasing tendency is visible. At the same time, the values for 11, 12, 13 and in particular, 15 guests, appear to be outliers. I will investigate."
   ]
  },
  {
   "cell_type": "code",
   "execution_count": 161,
   "metadata": {},
   "outputs": [
    {
     "data": {
      "text/plain": [
       "Int64Index([601], dtype='int64')"
      ]
     },
     "execution_count": 161,
     "metadata": {},
     "output_type": "execute_result"
    }
   ],
   "source": [
    "listings[listings['guests_included']==11].index"
   ]
  },
  {
   "cell_type": "code",
   "execution_count": 162,
   "metadata": {},
   "outputs": [
    {
     "data": {
      "text/plain": [
       "Int64Index([3803], dtype='int64')"
      ]
     },
     "execution_count": 162,
     "metadata": {},
     "output_type": "execute_result"
    }
   ],
   "source": [
    "listings[listings['guests_included']==12].index"
   ]
  },
  {
   "cell_type": "code",
   "execution_count": 163,
   "metadata": {},
   "outputs": [
    {
     "data": {
      "text/plain": [
       "Int64Index([2868], dtype='int64')"
      ]
     },
     "execution_count": 163,
     "metadata": {},
     "output_type": "execute_result"
    }
   ],
   "source": [
    "listings[listings['guests_included']==13].index"
   ]
  },
  {
   "cell_type": "code",
   "execution_count": 164,
   "metadata": {},
   "outputs": [
    {
     "data": {
      "text/plain": [
       "Int64Index([693], dtype='int64')"
      ]
     },
     "execution_count": 164,
     "metadata": {},
     "output_type": "execute_result"
    }
   ],
   "source": [
    "listings[listings['guests_included']==15].index"
   ]
  },
  {
   "cell_type": "markdown",
   "metadata": {},
   "source": [
    "In all four of these cases, there is just one property that meets the number of guests. I will remove these outlier rows."
   ]
  },
  {
   "cell_type": "code",
   "execution_count": 165,
   "metadata": {},
   "outputs": [],
   "source": [
    "listings.drop(601, inplace=True)\n",
    "listings.drop(3803, inplace=True)\n",
    "listings.drop(2868, inplace=True)\n",
    "listings.drop(693, inplace=True)"
   ]
  },
  {
   "cell_type": "code",
   "execution_count": 166,
   "metadata": {},
   "outputs": [
    {
     "data": {
      "text/plain": [
       "guests_included\n",
       "0     107.836957\n",
       "1     117.746361\n",
       "2     112.189463\n",
       "3     136.912500\n",
       "4     188.814346\n",
       "5     264.250000\n",
       "6     298.185714\n",
       "7     229.571429\n",
       "8     359.458333\n",
       "9     415.000000\n",
       "10    637.500000\n",
       "Name: price, dtype: float64"
      ]
     },
     "execution_count": 166,
     "metadata": {},
     "output_type": "execute_result"
    }
   ],
   "source": [
    "listings.groupby(['guests_included']).mean()['price']"
   ]
  },
  {
   "cell_type": "markdown",
   "metadata": {},
   "source": [
    "listings.info()"
   ]
  },
  {
   "cell_type": "code",
   "execution_count": null,
   "metadata": {},
   "outputs": [],
   "source": []
  },
  {
   "cell_type": "code",
   "execution_count": 167,
   "metadata": {},
   "outputs": [
    {
     "data": {
      "text/plain": [
       "accommodates\n",
       "1      58.375000\n",
       "2      91.253860\n",
       "3     111.600503\n",
       "4     140.106003\n",
       "5     181.804348\n",
       "6     198.567976\n",
       "7     220.788462\n",
       "8     295.478992\n",
       "9     396.153846\n",
       "10    362.640000\n",
       "11    566.666667\n",
       "12    345.666667\n",
       "14    381.333333\n",
       "15    172.000000\n",
       "16    461.000000\n",
       "Name: price, dtype: float64"
      ]
     },
     "execution_count": 167,
     "metadata": {},
     "output_type": "execute_result"
    }
   ],
   "source": [
    "listings.groupby(['accommodates']).mean()['price']"
   ]
  },
  {
   "cell_type": "markdown",
   "metadata": {},
   "source": [
    "At a first glance, the correlation between accommodates and price appears to be reasonably strong. I will investigate suspected outliers."
   ]
  },
  {
   "cell_type": "code",
   "execution_count": 168,
   "metadata": {},
   "outputs": [
    {
     "data": {
      "text/plain": [
       "Int64Index([1200], dtype='int64')"
      ]
     },
     "execution_count": 168,
     "metadata": {},
     "output_type": "execute_result"
    }
   ],
   "source": [
    "listings[listings['accommodates']==15].index"
   ]
  },
  {
   "cell_type": "code",
   "execution_count": 169,
   "metadata": {},
   "outputs": [
    {
     "data": {
      "text/plain": [
       "Int64Index([14], dtype='int64')"
      ]
     },
     "execution_count": 169,
     "metadata": {},
     "output_type": "execute_result"
    }
   ],
   "source": [
    "listings[listings['accommodates']==16].index"
   ]
  },
  {
   "cell_type": "code",
   "execution_count": 170,
   "metadata": {},
   "outputs": [],
   "source": [
    "# Two outlier rows will be removed.\n",
    "listings.drop(1200, inplace=True)\n",
    "listings.drop(14, inplace=True)"
   ]
  },
  {
   "cell_type": "code",
   "execution_count": 171,
   "metadata": {},
   "outputs": [
    {
     "data": {
      "text/plain": [
       "bathrooms\n",
       "0.0     80.375000\n",
       "0.5     74.633333\n",
       "1.0    106.638357\n",
       "1.5    130.060484\n",
       "2.0    190.443548\n",
       "2.5    256.677419\n",
       "3.0    273.476190\n",
       "3.5    305.200000\n",
       "4.0    527.166667\n",
       "4.5    496.666667\n",
       "5.0    135.000000\n",
       "8.0     70.000000\n",
       "Name: price, dtype: float64"
      ]
     },
     "execution_count": 171,
     "metadata": {},
     "output_type": "execute_result"
    }
   ],
   "source": [
    "listings.groupby(['bathrooms']).mean()['price']"
   ]
  },
  {
   "cell_type": "code",
   "execution_count": null,
   "metadata": {},
   "outputs": [],
   "source": []
  },
  {
   "cell_type": "code",
   "execution_count": null,
   "metadata": {},
   "outputs": [],
   "source": []
  },
  {
   "cell_type": "markdown",
   "metadata": {},
   "source": [
    "Again, there appears to be a quiter strong correlation here, but the last two values (5 and 8) look outlier-ish."
   ]
  },
  {
   "cell_type": "code",
   "execution_count": 172,
   "metadata": {},
   "outputs": [
    {
     "data": {
      "text/plain": [
       "Int64Index([3532, 3542], dtype='int64')"
      ]
     },
     "execution_count": 172,
     "metadata": {},
     "output_type": "execute_result"
    }
   ],
   "source": [
    "listings[listings['bathrooms']==5].index"
   ]
  },
  {
   "cell_type": "code",
   "execution_count": 173,
   "metadata": {},
   "outputs": [
    {
     "data": {
      "text/plain": [
       "Int64Index([1073, 2645], dtype='int64')"
      ]
     },
     "execution_count": 173,
     "metadata": {},
     "output_type": "execute_result"
    }
   ],
   "source": [
    "listings[listings['bathrooms']==8].index"
   ]
  },
  {
   "cell_type": "code",
   "execution_count": 174,
   "metadata": {},
   "outputs": [],
   "source": [
    "listings = listings.dropna(subset=['bedrooms'])\n",
    "# Removing missing values from bedrooms columns"
   ]
  },
  {
   "cell_type": "markdown",
   "metadata": {},
   "source": [
    "In total, just four properties have either five or eight bathrooms. I will get rid of these rows."
   ]
  },
  {
   "cell_type": "code",
   "execution_count": 175,
   "metadata": {},
   "outputs": [],
   "source": [
    "listings.drop(3532, inplace=True)\n",
    "listings.drop(3542, inplace=True)\n",
    "listings.drop(1073, inplace=True)\n",
    "listings.drop(2645, inplace=True)"
   ]
  },
  {
   "cell_type": "code",
   "execution_count": 176,
   "metadata": {},
   "outputs": [
    {
     "data": {
      "text/plain": [
       "bedrooms\n",
       "0.0    103.560647\n",
       "1.0     95.591532\n",
       "2.0    174.062500\n",
       "3.0    249.530035\n",
       "4.0    316.761194\n",
       "5.0    442.782609\n",
       "6.0    583.750000\n",
       "Name: price, dtype: float64"
      ]
     },
     "execution_count": 176,
     "metadata": {},
     "output_type": "execute_result"
    }
   ],
   "source": [
    "listings.groupby(['bedrooms']).mean()['price']"
   ]
  },
  {
   "cell_type": "markdown",
   "metadata": {},
   "source": [
    "Looks like a visible positive relationship here."
   ]
  },
  {
   "cell_type": "markdown",
   "metadata": {},
   "source": [
    "### Predicting price based on the number of bathrooms, bedrooms, and guests included."
   ]
  },
  {
   "cell_type": "code",
   "execution_count": 177,
   "metadata": {},
   "outputs": [],
   "source": [
    "listings = listings.dropna(subset=['bathrooms'])\n"
   ]
  },
  {
   "cell_type": "markdown",
   "metadata": {},
   "source": [
    "#### My justification for removing missing values is the fact that utilizing a mean would mean getting a fraction of a bathroom, which for obvious reasons does not make sense. Introducing the median would risk getting an inaccurate value. Furthermore, the number of rows in question is small, so removing them does not disrupt my dataset excessively."
   ]
  },
  {
   "cell_type": "code",
   "execution_count": 178,
   "metadata": {},
   "outputs": [
    {
     "name": "stdout",
     "output_type": "stream",
     "text": [
      "<class 'pandas.core.frame.DataFrame'>\n",
      "Int64Index: 3782 entries, 0 to 3817\n",
      "Data columns (total 60 columns):\n",
      "id                                  3782 non-null int64\n",
      "name                                3782 non-null object\n",
      "summary                             3616 non-null object\n",
      "neighborhood_overview               2775 non-null object\n",
      "host_id                             3782 non-null object\n",
      "host_since                          3782 non-null datetime64[ns]\n",
      "host_location                       3776 non-null object\n",
      "host_response_time                  3263 non-null object\n",
      "host_response_rate                  3263 non-null float64\n",
      "host_is_superhost                   3782 non-null bool\n",
      "host_neighbourhood                  3485 non-null object\n",
      "host_listings_count                 3782 non-null int64\n",
      "host_verifications                  3782 non-null object\n",
      "host_has_profile_pic                3782 non-null bool\n",
      "host_identity_verified              3782 non-null bool\n",
      "street                              3782 non-null object\n",
      "neighbourhood_cleansed              3782 non-null object\n",
      "neighbourhood_group_cleansed        3782 non-null object\n",
      "zipcode                             3775 non-null object\n",
      "latitude                            3782 non-null float64\n",
      "longitude                           3782 non-null float64\n",
      "is_location_exact                   3782 non-null bool\n",
      "property_type                       3781 non-null object\n",
      "room_type                           3782 non-null object\n",
      "accommodates                        3782 non-null int64\n",
      "bathrooms                           3782 non-null float64\n",
      "bedrooms                            3782 non-null float64\n",
      "beds                                3782 non-null int64\n",
      "bed_type                            3782 non-null object\n",
      "amenities                           3782 non-null object\n",
      "price                               3782 non-null int64\n",
      "weekly_price                        1993 non-null object\n",
      "monthly_price                       1507 non-null object\n",
      "security_deposit                    1853 non-null object\n",
      "cleaning_fee                        2766 non-null object\n",
      "guests_included                     3782 non-null int64\n",
      "extra_people                        3782 non-null int64\n",
      "minimum_nights                      3782 non-null int64\n",
      "maximum_nights                      3782 non-null int64\n",
      "calendar_updated                    3782 non-null object\n",
      "availability_30                     3782 non-null int64\n",
      "availability_60                     3782 non-null int64\n",
      "availability_90                     3782 non-null int64\n",
      "availability_365                    3782 non-null int64\n",
      "number_of_reviews                   3782 non-null int64\n",
      "first_review                        3163 non-null datetime64[ns]\n",
      "last_review                         3163 non-null datetime64[ns]\n",
      "review_scores_rating                3782 non-null float64\n",
      "review_scores_accuracy              3782 non-null float64\n",
      "review_scores_cleanliness           3782 non-null float64\n",
      "review_scores_checkin               3782 non-null float64\n",
      "review_scores_communication         3782 non-null float64\n",
      "review_scores_location              3782 non-null float64\n",
      "review_scores_value                 3782 non-null float64\n",
      "instant_bookable                    3782 non-null bool\n",
      "cancellation_policy                 3782 non-null object\n",
      "require_guest_profile_picture       3782 non-null bool\n",
      "require_guest_phone_verification    3782 non-null bool\n",
      "calculated_host_listings_count      3782 non-null int64\n",
      "reviews_per_month                   3163 non-null float64\n",
      "dtypes: bool(7), datetime64[ns](3), float64(13), int64(15), object(22)\n",
      "memory usage: 1.6+ MB\n"
     ]
    }
   ],
   "source": [
    "listings.info()"
   ]
  },
  {
   "cell_type": "code",
   "execution_count": 179,
   "metadata": {},
   "outputs": [],
   "source": [
    "X = listings[['bedrooms', 'bathrooms', 'guests_included']]\n",
    "y= listings['price']\n",
    "X_train, X_test, y_train, y_test_2 = train_test_split(X, y, test_size=0.3, random_state=47)\n",
    "lin_modelz = LinearRegression(normalize=True)\n",
    "lin_modelz.fit(X_train, y_train)\n",
    "\n",
    "predz = lin_modelz.predict(X_test)"
   ]
  },
  {
   "cell_type": "code",
   "execution_count": null,
   "metadata": {},
   "outputs": [],
   "source": []
  },
  {
   "cell_type": "code",
   "execution_count": null,
   "metadata": {},
   "outputs": [],
   "source": []
  },
  {
   "cell_type": "code",
   "execution_count": null,
   "metadata": {},
   "outputs": [],
   "source": []
  },
  {
   "cell_type": "markdown",
   "metadata": {},
   "source": [
    "# Evaluation"
   ]
  },
  {
   "cell_type": "markdown",
   "metadata": {},
   "source": [
    "I will now test the two models described above."
   ]
  },
  {
   "cell_type": "code",
   "execution_count": 180,
   "metadata": {},
   "outputs": [],
   "source": [
    "rsquared_score = r2_score(y_test, preds)\n",
    "length_y_test = len(y_test)\n",
    "# R-squared score for first model."
   ]
  },
  {
   "cell_type": "code",
   "execution_count": 181,
   "metadata": {},
   "outputs": [
    {
     "data": {
      "text/plain": [
       "'The r-squared score for the review scores model was 0.005925786019783996 on 1143 values.'"
      ]
     },
     "execution_count": 181,
     "metadata": {},
     "output_type": "execute_result"
    }
   ],
   "source": [
    "\"The r-squared score for the review scores model was {} on {} values.\".format(rsquared_score, length_y_test)"
   ]
  },
  {
   "cell_type": "code",
   "execution_count": 182,
   "metadata": {},
   "outputs": [],
   "source": [
    "rsquared_score = r2_score(y_test_2, predz)\n",
    "length_y_test_2 = len(y_test_2)\n",
    "#R-squared score for second model."
   ]
  },
  {
   "cell_type": "code",
   "execution_count": 183,
   "metadata": {},
   "outputs": [
    {
     "data": {
      "text/plain": [
       "'The r-squared score for the bedrooms/bathrooms model was 0.47940849681862885 on 1143 values.'"
      ]
     },
     "execution_count": 183,
     "metadata": {},
     "output_type": "execute_result"
    }
   ],
   "source": [
    "\"The r-squared score for the bedrooms/bathrooms model was {} on {} values.\".format(rsquared_score, length_y_test)"
   ]
  },
  {
   "cell_type": "code",
   "execution_count": null,
   "metadata": {},
   "outputs": [],
   "source": []
  },
  {
   "cell_type": "markdown",
   "metadata": {},
   "source": [
    "The r-squared score for the first model was indistinguishable from zero. This suggests that review scores are almost completely useless when it comes to predicting price.\n",
    "\n",
    "The r-squared score for the second model was equal to 0.48. This is not ideal, but still much better than the previous model. It suggests that at least some of the variation in price can be explained by the number of bedrooms, bathrooms and guests included."
   ]
  },
  {
   "cell_type": "markdown",
   "metadata": {},
   "source": [
    "# Visualizations"
   ]
  },
  {
   "cell_type": "markdown",
   "metadata": {},
   "source": [
    "I will now seek to visualize some of the relationships described above."
   ]
  },
  {
   "cell_type": "code",
   "execution_count": 184,
   "metadata": {},
   "outputs": [
    {
     "data": {
      "text/plain": [
       "Text(0,0.5,'Price (US dollars)')"
      ]
     },
     "execution_count": 184,
     "metadata": {},
     "output_type": "execute_result"
    },
    {
     "data": {
      "image/png": "[encoded data removed]",
      "text/plain": [
       "<Figure size 432x288 with 1 Axes>"
      ]
     },
     "metadata": {
      "needs_background": "light"
     },
     "output_type": "display_data"
    }
   ],
   "source": [
    "listings.groupby(['bathrooms']).mean()['price'].plot.bar()\n",
    "plt.title('Relation between price and number of bathrooms')\n",
    "plt.ylabel('Price (US dollars)')"
   ]
  },
  {
   "cell_type": "code",
   "execution_count": 185,
   "metadata": {},
   "outputs": [
    {
     "data": {
      "text/plain": [
       "Text(0,0.5,'Price (US dollars)')"
      ]
     },
     "execution_count": 185,
     "metadata": {},
     "output_type": "execute_result"
    },
    {
     "data": {
      "image/png": "[encoded data removed]",
      "text/plain": [
       "<Figure size 432x288 with 1 Axes>"
      ]
     },
     "metadata": {
      "needs_background": "light"
     },
     "output_type": "display_data"
    }
   ],
   "source": [
    "listings.groupby(['neighbourhood_group_cleansed']).mean()['price'].sort_values().plot.bar()\n",
    "plt.title(\"Relation between price and neighborhood\")\n",
    "plt.xlabel('Neighborhood')\n",
    "plt.ylabel('Price (US dollars)')"
   ]
  },
  {
   "cell_type": "code",
   "execution_count": 186,
   "metadata": {},
   "outputs": [
    {
     "data": {
      "text/plain": [
       "Text(0,0.5,'Price (US dollars)')"
      ]
     },
     "execution_count": 186,
     "metadata": {},
     "output_type": "execute_result"
    },
    {
     "data": {
      "image/png": "[encoded data removed]",
      "text/plain": [
       "<Figure size 432x288 with 1 Axes>"
      ]
     },
     "metadata": {
      "needs_background": "light"
     },
     "output_type": "display_data"
    }
   ],
   "source": [
    "listings.groupby(['bedrooms']).mean()['price'].plot.bar()\n",
    "plt.title('Relation between price and number of bedrooms')\n",
    "plt.ylabel('Price (US dollars)')"
   ]
  },
  {
   "cell_type": "code",
   "execution_count": 187,
   "metadata": {},
   "outputs": [
    {
     "data": {
      "text/plain": [
       "Text(0,0.5,'Price (US dollars)')"
      ]
     },
     "execution_count": 187,
     "metadata": {},
     "output_type": "execute_result"
    },
    {
     "data": {
      "image/png": "[encoded data removed]",
      "text/plain": [
       "<Figure size 432x288 with 1 Axes>"
      ]
     },
     "metadata": {
      "needs_background": "light"
     },
     "output_type": "display_data"
    }
   ],
   "source": [
    "listings.groupby(['cancellation_policy']).mean()['price'].plot.bar()\n",
    "plt.title('Relation between price and cancellation policy')\n",
    "plt.ylabel('Price (US dollars)')"
   ]
  },
  {
   "cell_type": "code",
   "execution_count": 188,
   "metadata": {},
   "outputs": [
    {
     "data": {
      "text/plain": [
       "Text(0,0.5,'Price (US dollars)')"
      ]
     },
     "execution_count": 188,
     "metadata": {},
     "output_type": "execute_result"
    },
    {
     "data": {
      "image/png": "[encoded data removed]",
      "text/plain": [
       "<Figure size 432x288 with 1 Axes>"
      ]
     },
     "metadata": {
      "needs_background": "light"
     },
     "output_type": "display_data"
    }
   ],
   "source": [
    "listings.groupby(['room_type']).mean()['price'].sort_values().plot.bar()\n",
    "plt.title('Relation between price and room type')\n",
    "plt.ylabel('Price (US dollars)')"
   ]
  },
  {
   "cell_type": "code",
   "execution_count": 189,
   "metadata": {},
   "outputs": [
    {
     "data": {
      "text/plain": [
       "Text(0,0.5,'Price (US dollars)')"
      ]
     },
     "execution_count": 189,
     "metadata": {},
     "output_type": "execute_result"
    },
    {
     "data": {
      "image/png": "[encoded data removed]",
      "text/plain": [
       "<Figure size 432x288 with 1 Axes>"
      ]
     },
     "metadata": {
      "needs_background": "light"
     },
     "output_type": "display_data"
    }
   ],
   "source": [
    "listings.groupby(['bed_type']).mean()['price'].sort_values().plot.bar()\n",
    "plt.title('Relation between price and bed type')\n",
    "plt.ylabel('Price (US dollars)')"
   ]
  },
  {
   "cell_type": "code",
   "execution_count": 190,
   "metadata": {},
   "outputs": [
    {
     "data": {
      "text/plain": [
       "Text(0,0.5,'Price (US dollars)')"
      ]
     },
     "execution_count": 190,
     "metadata": {},
     "output_type": "execute_result"
    },
    {
     "data": {
      "image/png": "[encoded data removed]",
      "text/plain": [
       "<Figure size 432x288 with 1 Axes>"
      ]
     },
     "metadata": {
      "needs_background": "light"
     },
     "output_type": "display_data"
    }
   ],
   "source": [
    "listings.groupby(['guests_included']).mean()['price'].sort_values().plot.bar()\n",
    "plt.title('Relation between price and maximum number of guests')\n",
    "plt.xlabel('Guests included')\n",
    "plt.ylabel('Price (US dollars)')"
   ]
  },
  {
   "cell_type": "code",
   "execution_count": 191,
   "metadata": {},
   "outputs": [
    {
     "data": {
      "text/plain": [
       "Text(0,0.5,'Price (US dollars)')"
      ]
     },
     "execution_count": 191,
     "metadata": {},
     "output_type": "execute_result"
    },
    {
     "data": {
      "image/png": "[encoded data removed]",
      "text/plain": [
       "<Figure size 432x288 with 1 Axes>"
      ]
     },
     "metadata": {
      "needs_background": "light"
     },
     "output_type": "display_data"
    }
   ],
   "source": [
    "listings.groupby(['property_type']).mean()['price'].sort_values().plot.bar()\n",
    "plt.title('Relation between price and property type')\n",
    "plt.xlabel('Property type')\n",
    "plt.ylabel('Price (US dollars)')"
   ]
  },
  {
   "cell_type": "code",
   "execution_count": null,
   "metadata": {},
   "outputs": [],
   "source": []
  }
 ],
 "metadata": {
  "kernelspec": {
   "display_name": "Python 3",
   "language": "python",
   "name": "python3"
  },
  "language_info": {
   "codemirror_mode": {
    "name": "ipython",
    "version": 3
   },
   "file_extension": ".py",
   "mimetype": "text/x-python",
   "name": "python",
   "nbconvert_exporter": "python",
   "pygments_lexer": "ipython3",
   "version": "3.7.0"
  }
 },
 "nbformat": 4,
 "nbformat_minor": 2
}
